{
 "cells": [
  {
   "cell_type": "code",
   "id": "b2b1f3f58605586b",
   "metadata": {
    "ExecuteTime": {
     "end_time": "2024-11-17T04:22:22.396365Z",
     "start_time": "2024-11-17T04:22:22.373406Z"
    }
   },
   "source": [
    "# # 导入相关包\n",
    "# import warnings\n",
    "# from cProfile import label\n",
    "# from sys import displayhook\n",
    "# from tkinter.messagebox import showinfo\n",
    "\n",
    "# warnings.filterwarnings('ignore')\n",
    "import numpy as np\n",
    "import pandas as pd\n",
    "import seaborn as sns\n",
    "\n",
    "# 设置sns样式\n",
    "sns.set_theme(style='white',context='notebook',palette='muted')\n",
    "import matplotlib.pyplot as plt\n",
    "# 导入数据\n",
    "train = pd.read_csv('train.csv')\n",
    "test = pd.read_csv('test.csv')\n",
    "display(train.head())"
   ],
   "outputs": [
    {
     "data": {
      "text/plain": [
       "   PassengerId  Survived  Pclass  \\\n",
       "0            1         0       3   \n",
       "1            2         1       1   \n",
       "2            3         1       3   \n",
       "3            4         1       1   \n",
       "4            5         0       3   \n",
       "\n",
       "                                                Name     Sex   Age  SibSp  \\\n",
       "0                            Braund, Mr. Owen Harris    male  22.0      1   \n",
       "1  Cumings, Mrs. John Bradley (Florence Briggs Th...  female  38.0      1   \n",
       "2                             Heikkinen, Miss. Laina  female  26.0      0   \n",
       "3       Futrelle, Mrs. Jacques Heath (Lily May Peel)  female  35.0      1   \n",
       "4                           Allen, Mr. William Henry    male  35.0      0   \n",
       "\n",
       "   Parch            Ticket     Fare Cabin Embarked  \n",
       "0      0         A/5 21171   7.2500   NaN        S  \n",
       "1      0          PC 17599  71.2833   C85        C  \n",
       "2      0  STON/O2. 3101282   7.9250   NaN        S  \n",
       "3      0            113803  53.1000  C123        S  \n",
       "4      0            373450   8.0500   NaN        S  "
      ],
      "text/html": [
       "<div>\n",
       "<style scoped>\n",
       "    .dataframe tbody tr th:only-of-type {\n",
       "        vertical-align: middle;\n",
       "    }\n",
       "\n",
       "    .dataframe tbody tr th {\n",
       "        vertical-align: top;\n",
       "    }\n",
       "\n",
       "    .dataframe thead th {\n",
       "        text-align: right;\n",
       "    }\n",
       "</style>\n",
       "<table border=\"1\" class=\"dataframe\">\n",
       "  <thead>\n",
       "    <tr style=\"text-align: right;\">\n",
       "      <th></th>\n",
       "      <th>PassengerId</th>\n",
       "      <th>Survived</th>\n",
       "      <th>Pclass</th>\n",
       "      <th>Name</th>\n",
       "      <th>Sex</th>\n",
       "      <th>Age</th>\n",
       "      <th>SibSp</th>\n",
       "      <th>Parch</th>\n",
       "      <th>Ticket</th>\n",
       "      <th>Fare</th>\n",
       "      <th>Cabin</th>\n",
       "      <th>Embarked</th>\n",
       "    </tr>\n",
       "  </thead>\n",
       "  <tbody>\n",
       "    <tr>\n",
       "      <th>0</th>\n",
       "      <td>1</td>\n",
       "      <td>0</td>\n",
       "      <td>3</td>\n",
       "      <td>Braund, Mr. Owen Harris</td>\n",
       "      <td>male</td>\n",
       "      <td>22.0</td>\n",
       "      <td>1</td>\n",
       "      <td>0</td>\n",
       "      <td>A/5 21171</td>\n",
       "      <td>7.2500</td>\n",
       "      <td>NaN</td>\n",
       "      <td>S</td>\n",
       "    </tr>\n",
       "    <tr>\n",
       "      <th>1</th>\n",
       "      <td>2</td>\n",
       "      <td>1</td>\n",
       "      <td>1</td>\n",
       "      <td>Cumings, Mrs. John Bradley (Florence Briggs Th...</td>\n",
       "      <td>female</td>\n",
       "      <td>38.0</td>\n",
       "      <td>1</td>\n",
       "      <td>0</td>\n",
       "      <td>PC 17599</td>\n",
       "      <td>71.2833</td>\n",
       "      <td>C85</td>\n",
       "      <td>C</td>\n",
       "    </tr>\n",
       "    <tr>\n",
       "      <th>2</th>\n",
       "      <td>3</td>\n",
       "      <td>1</td>\n",
       "      <td>3</td>\n",
       "      <td>Heikkinen, Miss. Laina</td>\n",
       "      <td>female</td>\n",
       "      <td>26.0</td>\n",
       "      <td>0</td>\n",
       "      <td>0</td>\n",
       "      <td>STON/O2. 3101282</td>\n",
       "      <td>7.9250</td>\n",
       "      <td>NaN</td>\n",
       "      <td>S</td>\n",
       "    </tr>\n",
       "    <tr>\n",
       "      <th>3</th>\n",
       "      <td>4</td>\n",
       "      <td>1</td>\n",
       "      <td>1</td>\n",
       "      <td>Futrelle, Mrs. Jacques Heath (Lily May Peel)</td>\n",
       "      <td>female</td>\n",
       "      <td>35.0</td>\n",
       "      <td>1</td>\n",
       "      <td>0</td>\n",
       "      <td>113803</td>\n",
       "      <td>53.1000</td>\n",
       "      <td>C123</td>\n",
       "      <td>S</td>\n",
       "    </tr>\n",
       "    <tr>\n",
       "      <th>4</th>\n",
       "      <td>5</td>\n",
       "      <td>0</td>\n",
       "      <td>3</td>\n",
       "      <td>Allen, Mr. William Henry</td>\n",
       "      <td>male</td>\n",
       "      <td>35.0</td>\n",
       "      <td>0</td>\n",
       "      <td>0</td>\n",
       "      <td>373450</td>\n",
       "      <td>8.0500</td>\n",
       "      <td>NaN</td>\n",
       "      <td>S</td>\n",
       "    </tr>\n",
       "  </tbody>\n",
       "</table>\n",
       "</div>"
      ]
     },
     "metadata": {},
     "output_type": "display_data"
    }
   ],
   "execution_count": 1
  },
  {
   "cell_type": "code",
   "id": "b04cc0cc114ef5dc",
   "metadata": {
    "ExecuteTime": {
     "end_time": "2024-11-17T04:22:22.881974Z",
     "start_time": "2024-11-17T04:22:22.879412Z"
    }
   },
   "source": [
    "# print(train.info(), test.info()) # 测试集不包含 survived 标签\n",
    "# display(train.describe()) # 查看数据集的统计信息"
   ],
   "outputs": [],
   "execution_count": 2
  },
  {
   "cell_type": "code",
   "id": "c19af5d9e6a51aef",
   "metadata": {
    "ExecuteTime": {
     "end_time": "2024-11-17T04:22:22.903655Z",
     "start_time": "2024-11-17T04:22:22.888988Z"
    }
   },
   "source": [
    "# 数据合并，方便一起处理\n",
    "full = pd.concat([train,test], ignore_index=True)\n",
    "full.describe() # 发现有缺失数据"
   ],
   "outputs": [
    {
     "data": {
      "text/plain": [
       "       PassengerId    Survived       Pclass          Age        SibSp  \\\n",
       "count  1309.000000  891.000000  1309.000000  1046.000000  1309.000000   \n",
       "mean    655.000000    0.383838     2.294882    29.881138     0.498854   \n",
       "std     378.020061    0.486592     0.837836    14.413493     1.041658   \n",
       "min       1.000000    0.000000     1.000000     0.170000     0.000000   \n",
       "25%     328.000000    0.000000     2.000000    21.000000     0.000000   \n",
       "50%     655.000000    0.000000     3.000000    28.000000     0.000000   \n",
       "75%     982.000000    1.000000     3.000000    39.000000     1.000000   \n",
       "max    1309.000000    1.000000     3.000000    80.000000     8.000000   \n",
       "\n",
       "             Parch         Fare  \n",
       "count  1309.000000  1308.000000  \n",
       "mean      0.385027    33.295479  \n",
       "std       0.865560    51.758668  \n",
       "min       0.000000     0.000000  \n",
       "25%       0.000000     7.895800  \n",
       "50%       0.000000    14.454200  \n",
       "75%       0.000000    31.275000  \n",
       "max       9.000000   512.329200  "
      ],
      "text/html": [
       "<div>\n",
       "<style scoped>\n",
       "    .dataframe tbody tr th:only-of-type {\n",
       "        vertical-align: middle;\n",
       "    }\n",
       "\n",
       "    .dataframe tbody tr th {\n",
       "        vertical-align: top;\n",
       "    }\n",
       "\n",
       "    .dataframe thead th {\n",
       "        text-align: right;\n",
       "    }\n",
       "</style>\n",
       "<table border=\"1\" class=\"dataframe\">\n",
       "  <thead>\n",
       "    <tr style=\"text-align: right;\">\n",
       "      <th></th>\n",
       "      <th>PassengerId</th>\n",
       "      <th>Survived</th>\n",
       "      <th>Pclass</th>\n",
       "      <th>Age</th>\n",
       "      <th>SibSp</th>\n",
       "      <th>Parch</th>\n",
       "      <th>Fare</th>\n",
       "    </tr>\n",
       "  </thead>\n",
       "  <tbody>\n",
       "    <tr>\n",
       "      <th>count</th>\n",
       "      <td>1309.000000</td>\n",
       "      <td>891.000000</td>\n",
       "      <td>1309.000000</td>\n",
       "      <td>1046.000000</td>\n",
       "      <td>1309.000000</td>\n",
       "      <td>1309.000000</td>\n",
       "      <td>1308.000000</td>\n",
       "    </tr>\n",
       "    <tr>\n",
       "      <th>mean</th>\n",
       "      <td>655.000000</td>\n",
       "      <td>0.383838</td>\n",
       "      <td>2.294882</td>\n",
       "      <td>29.881138</td>\n",
       "      <td>0.498854</td>\n",
       "      <td>0.385027</td>\n",
       "      <td>33.295479</td>\n",
       "    </tr>\n",
       "    <tr>\n",
       "      <th>std</th>\n",
       "      <td>378.020061</td>\n",
       "      <td>0.486592</td>\n",
       "      <td>0.837836</td>\n",
       "      <td>14.413493</td>\n",
       "      <td>1.041658</td>\n",
       "      <td>0.865560</td>\n",
       "      <td>51.758668</td>\n",
       "    </tr>\n",
       "    <tr>\n",
       "      <th>min</th>\n",
       "      <td>1.000000</td>\n",
       "      <td>0.000000</td>\n",
       "      <td>1.000000</td>\n",
       "      <td>0.170000</td>\n",
       "      <td>0.000000</td>\n",
       "      <td>0.000000</td>\n",
       "      <td>0.000000</td>\n",
       "    </tr>\n",
       "    <tr>\n",
       "      <th>25%</th>\n",
       "      <td>328.000000</td>\n",
       "      <td>0.000000</td>\n",
       "      <td>2.000000</td>\n",
       "      <td>21.000000</td>\n",
       "      <td>0.000000</td>\n",
       "      <td>0.000000</td>\n",
       "      <td>7.895800</td>\n",
       "    </tr>\n",
       "    <tr>\n",
       "      <th>50%</th>\n",
       "      <td>655.000000</td>\n",
       "      <td>0.000000</td>\n",
       "      <td>3.000000</td>\n",
       "      <td>28.000000</td>\n",
       "      <td>0.000000</td>\n",
       "      <td>0.000000</td>\n",
       "      <td>14.454200</td>\n",
       "    </tr>\n",
       "    <tr>\n",
       "      <th>75%</th>\n",
       "      <td>982.000000</td>\n",
       "      <td>1.000000</td>\n",
       "      <td>3.000000</td>\n",
       "      <td>39.000000</td>\n",
       "      <td>1.000000</td>\n",
       "      <td>0.000000</td>\n",
       "      <td>31.275000</td>\n",
       "    </tr>\n",
       "    <tr>\n",
       "      <th>max</th>\n",
       "      <td>1309.000000</td>\n",
       "      <td>1.000000</td>\n",
       "      <td>3.000000</td>\n",
       "      <td>80.000000</td>\n",
       "      <td>8.000000</td>\n",
       "      <td>9.000000</td>\n",
       "      <td>512.329200</td>\n",
       "    </tr>\n",
       "  </tbody>\n",
       "</table>\n",
       "</div>"
      ]
     },
     "execution_count": 3,
     "metadata": {},
     "output_type": "execute_result"
    }
   ],
   "execution_count": 3
  },
  {
   "cell_type": "code",
   "id": "3d792afdac1cfeee",
   "metadata": {
    "ExecuteTime": {
     "end_time": "2024-11-17T04:22:22.951285Z",
     "start_time": "2024-11-17T04:22:22.941852Z"
    }
   },
   "source": [
    "# 查看 info() 详情，得出没有明显异常值的结论\n",
    "full.info()"
   ],
   "outputs": [
    {
     "name": "stdout",
     "output_type": "stream",
     "text": [
      "<class 'pandas.core.frame.DataFrame'>\n",
      "RangeIndex: 1309 entries, 0 to 1308\n",
      "Data columns (total 12 columns):\n",
      " #   Column       Non-Null Count  Dtype  \n",
      "---  ------       --------------  -----  \n",
      " 0   PassengerId  1309 non-null   int64  \n",
      " 1   Survived     891 non-null    float64\n",
      " 2   Pclass       1309 non-null   int64  \n",
      " 3   Name         1309 non-null   object \n",
      " 4   Sex          1309 non-null   object \n",
      " 5   Age          1046 non-null   float64\n",
      " 6   SibSp        1309 non-null   int64  \n",
      " 7   Parch        1309 non-null   int64  \n",
      " 8   Ticket       1309 non-null   object \n",
      " 9   Fare         1308 non-null   float64\n",
      " 10  Cabin        295 non-null    object \n",
      " 11  Embarked     1307 non-null   object \n",
      "dtypes: float64(3), int64(4), object(5)\n",
      "memory usage: 122.8+ KB\n"
     ]
    }
   ],
   "execution_count": 4
  },
  {
   "cell_type": "code",
   "id": "253ff86a3da6ef56",
   "metadata": {
    "ExecuteTime": {
     "end_time": "2024-11-17T04:22:23.155376Z",
     "start_time": "2024-11-17T04:22:23.004032Z"
    }
   },
   "source": [
    "# 特征与标签的关系，首先查看港口和生死之间的关系\n",
    "sns.barplot(data=train,x='Embarked',y='Survived')"
   ],
   "outputs": [
    {
     "data": {
      "text/plain": [
       "<Axes: xlabel='Embarked', ylabel='Survived'>"
      ]
     },
     "execution_count": 5,
     "metadata": {},
     "output_type": "execute_result"
    },
    {
     "data": {
      "text/plain": [
       "<Figure size 640x480 with 1 Axes>"
      ],
      "image/png": "[encoded data removed]"
     },
     "metadata": {},
     "output_type": "display_data"
    }
   ],
   "execution_count": 5
  },
  {
   "cell_type": "code",
   "id": "d4965b3c74a7673c",
   "metadata": {
    "ExecuteTime": {
     "end_time": "2024-11-17T04:22:23.173668Z",
     "start_time": "2024-11-17T04:22:23.162392Z"
    }
   },
   "source": [
    "# 计算不同类型 Embarked 的乘客，其生存率是多少\n",
    "s = full.groupby('Embarked')['Survived'].value_counts().to_frame() # 根据 Embarked 分组，计算 Survived 列中每个值出现的次数\n",
    "# display(s) # Embarked 和 Survived 是两级索引\n",
    "s2 = s / s.groupby(level=0).sum() # 计算生存率\n",
    "# display(s.groupby(level=0).sum())\n",
    "# display(s2)\n",
    "pd.merge(s, s2, left_index=True, right_index=True, suffixes=('_num','_rate')) # 两列名都为 count ，需要添加后缀以示区分"
   ],
   "outputs": [
    {
     "data": {
      "text/plain": [
       "                   count_num  count_rate\n",
       "Embarked Survived                       \n",
       "C        1.0              93    0.553571\n",
       "         0.0              75    0.446429\n",
       "Q        0.0              47    0.610390\n",
       "         1.0              30    0.389610\n",
       "S        0.0             427    0.663043\n",
       "         1.0             217    0.336957"
      ],
      "text/html": [
       "<div>\n",
       "<style scoped>\n",
       "    .dataframe tbody tr th:only-of-type {\n",
       "        vertical-align: middle;\n",
       "    }\n",
       "\n",
       "    .dataframe tbody tr th {\n",
       "        vertical-align: top;\n",
       "    }\n",
       "\n",
       "    .dataframe thead th {\n",
       "        text-align: right;\n",
       "    }\n",
       "</style>\n",
       "<table border=\"1\" class=\"dataframe\">\n",
       "  <thead>\n",
       "    <tr style=\"text-align: right;\">\n",
       "      <th></th>\n",
       "      <th></th>\n",
       "      <th>count_num</th>\n",
       "      <th>count_rate</th>\n",
       "    </tr>\n",
       "    <tr>\n",
       "      <th>Embarked</th>\n",
       "      <th>Survived</th>\n",
       "      <th></th>\n",
       "      <th></th>\n",
       "    </tr>\n",
       "  </thead>\n",
       "  <tbody>\n",
       "    <tr>\n",
       "      <th rowspan=\"2\" valign=\"top\">C</th>\n",
       "      <th>1.0</th>\n",
       "      <td>93</td>\n",
       "      <td>0.553571</td>\n",
       "    </tr>\n",
       "    <tr>\n",
       "      <th>0.0</th>\n",
       "      <td>75</td>\n",
       "      <td>0.446429</td>\n",
       "    </tr>\n",
       "    <tr>\n",
       "      <th rowspan=\"2\" valign=\"top\">Q</th>\n",
       "      <th>0.0</th>\n",
       "      <td>47</td>\n",
       "      <td>0.610390</td>\n",
       "    </tr>\n",
       "    <tr>\n",
       "      <th>1.0</th>\n",
       "      <td>30</td>\n",
       "      <td>0.389610</td>\n",
       "    </tr>\n",
       "    <tr>\n",
       "      <th rowspan=\"2\" valign=\"top\">S</th>\n",
       "      <th>0.0</th>\n",
       "      <td>427</td>\n",
       "      <td>0.663043</td>\n",
       "    </tr>\n",
       "    <tr>\n",
       "      <th>1.0</th>\n",
       "      <td>217</td>\n",
       "      <td>0.336957</td>\n",
       "    </tr>\n",
       "  </tbody>\n",
       "</table>\n",
       "</div>"
      ]
     },
     "execution_count": 6,
     "metadata": {},
     "output_type": "execute_result"
    }
   ],
   "execution_count": 6
  },
  {
   "cell_type": "code",
   "id": "9b5391d37873209d",
   "metadata": {
    "ExecuteTime": {
     "end_time": "2024-11-17T04:22:23.597527Z",
     "start_time": "2024-11-17T04:22:23.215277Z"
    }
   },
   "source": [
    "# 港口与舱位的关系\n",
    "sns.catplot(x='Pclass', col='Embarked', data=train, kind='count', height=3)"
   ],
   "outputs": [
    {
     "data": {
      "text/plain": [
       "<seaborn.axisgrid.FacetGrid at 0x13567f88800>"
      ]
     },
     "execution_count": 7,
     "metadata": {},
     "output_type": "execute_result"
    },
    {
     "data": {
      "text/plain": [
       "<Figure size 912.222x300 with 3 Axes>"
      ],
      "image/png": "[encoded data removed]"
     },
     "metadata": {},
     "output_type": "display_data"
    }
   ],
   "execution_count": 7
  },
  {
   "cell_type": "code",
   "id": "c433265d81d1d1ae",
   "metadata": {
    "ExecuteTime": {
     "end_time": "2024-11-17T04:22:23.735344Z",
     "start_time": "2024-11-17T04:22:23.625113Z"
    }
   },
   "source": [
    "sns.barplot(data=train,x='Pclass',y='Survived')"
   ],
   "outputs": [
    {
     "data": {
      "text/plain": [
       "<Axes: xlabel='Pclass', ylabel='Survived'>"
      ]
     },
     "execution_count": 8,
     "metadata": {},
     "output_type": "execute_result"
    },
    {
     "data": {
      "text/plain": [
       "<Figure size 640x480 with 1 Axes>"
      ],
      "image/png": "[encoded data removed]"
     },
     "metadata": {},
     "output_type": "display_data"
    }
   ],
   "execution_count": 8
  },
  {
   "cell_type": "code",
   "id": "f063fecd50ea8665",
   "metadata": {
    "ExecuteTime": {
     "end_time": "2024-11-17T04:22:23.908181Z",
     "start_time": "2024-11-17T04:22:23.766844Z"
    }
   },
   "source": [
    "# 家长和孩子数量与生死的关系\n",
    "sns.barplot(data=train, x='Parch', y='Survived')"
   ],
   "outputs": [
    {
     "data": {
      "text/plain": [
       "<Axes: xlabel='Parch', ylabel='Survived'>"
      ]
     },
     "execution_count": 9,
     "metadata": {},
     "output_type": "execute_result"
    },
    {
     "data": {
      "text/plain": [
       "<Figure size 640x480 with 1 Axes>"
      ],
      "image/png": "[encoded data removed]"
     },
     "metadata": {},
     "output_type": "display_data"
    }
   ],
   "execution_count": 9
  },
  {
   "cell_type": "code",
   "id": "792d75af41cb5dba",
   "metadata": {
    "ExecuteTime": {
     "end_time": "2024-11-17T04:22:24.139731Z",
     "start_time": "2024-11-17T04:22:23.945186Z"
    }
   },
   "source": [
    "# 兄弟姐妹数量与生死的关系\n",
    "sns.barplot(data=train, x='SibSp', y='Survived')"
   ],
   "outputs": [
    {
     "data": {
      "text/plain": [
       "<Axes: xlabel='SibSp', ylabel='Survived'>"
      ]
     },
     "execution_count": 10,
     "metadata": {},
     "output_type": "execute_result"
    },
    {
     "data": {
      "text/plain": [
       "<Figure size 640x480 with 1 Axes>"
      ],
      "image/png": "[encoded data removed]"
     },
     "metadata": {},
     "output_type": "display_data"
    }
   ],
   "execution_count": 10
  },
  {
   "cell_type": "code",
   "id": "c5bd1b8e4bab3253",
   "metadata": {
    "ExecuteTime": {
     "end_time": "2024-11-17T04:22:24.282022Z",
     "start_time": "2024-11-17T04:22:24.172141Z"
    }
   },
   "source": [
    "# 性别与生死的关系\n",
    "sns.barplot(data=train, x='Sex', y='Survived')"
   ],
   "outputs": [
    {
     "data": {
      "text/plain": [
       "<Axes: xlabel='Sex', ylabel='Survived'>"
      ]
     },
     "execution_count": 11,
     "metadata": {},
     "output_type": "execute_result"
    },
    {
     "data": {
      "text/plain": [
       "<Figure size 640x480 with 1 Axes>"
      ],
      "image/png": "[encoded data removed]"
     },
     "metadata": {},
     "output_type": "display_data"
    }
   ],
   "execution_count": 11
  },
  {
   "cell_type": "code",
   "id": "7ae2a027cf998a81",
   "metadata": {
    "ExecuteTime": {
     "end_time": "2024-11-17T04:22:24.531490Z",
     "start_time": "2024-11-17T04:22:24.288028Z"
    }
   },
   "source": [
    "# 乘客花费与生死的关系\n",
    "fareFacet = sns.FacetGrid(data=train, hue='Survived', aspect=3) # 绘制画布\n",
    "fareFacet.map(sns.kdeplot, 'Fare', fill=True) # 绘制核密度图\n",
    "fareFacet.set(xlim=(0,150)) # 设置 x 轴范围\n",
    "fareFacet.add_legend() # 添加图例"
   ],
   "outputs": [
    {
     "data": {
      "text/plain": [
       "<seaborn.axisgrid.FacetGrid at 0x135689b2150>"
      ]
     },
     "execution_count": 12,
     "metadata": {},
     "output_type": "execute_result"
    },
    {
     "data": {
      "text/plain": [
       "<Figure size 977.472x300 with 1 Axes>"
      ],
      "image/png": "[encoded data removed]"
     },
     "metadata": {},
     "output_type": "display_data"
    }
   ],
   "execution_count": 12
  },
  {
   "cell_type": "code",
   "id": "fe43b9a72febdcfc",
   "metadata": {
    "ExecuteTime": {
     "end_time": "2024-11-17T04:22:24.812158Z",
     "start_time": "2024-11-17T04:22:24.564635Z"
    }
   },
   "source": [
    "# 年龄与生死的关系\n",
    "ageFacet = sns.FacetGrid(data=train, hue='Survived', aspect=3)\n",
    "ageFacet.map(sns.kdeplot, 'Age', fill=True)\n",
    "ageFacet.set(xlim=(0,80))\n",
    "ageFacet.add_legend()"
   ],
   "outputs": [
    {
     "data": {
      "text/plain": [
       "<seaborn.axisgrid.FacetGrid at 0x135687d7e60>"
      ]
     },
     "execution_count": 13,
     "metadata": {},
     "output_type": "execute_result"
    },
    {
     "data": {
      "text/plain": [
       "<Figure size 977.472x300 with 1 Axes>"
      ],
      "image/png": "[encoded data removed]"
     },
     "metadata": {},
     "output_type": "display_data"
    }
   ],
   "execution_count": 13
  },
  {
   "cell_type": "code",
   "id": "9cf1905c1eeb55b7",
   "metadata": {
    "ExecuteTime": {
     "end_time": "2024-11-17T04:22:25.072744Z",
     "start_time": "2024-11-17T04:22:24.818164Z"
    }
   },
   "source": [
    "# 查看 fare 分布，看起来右偏\n",
    "# 既有柱状图又有密度曲线\n",
    "farePlot = sns.displot(full['Fare'][full['Fare'].notnull()], kde=True)\n",
    "farePlot.fig.suptitle('Fare Distribution (skewness: %.2f)' % (full['Fare'].skew()))\n",
    "farePlot.set_axis_labels('Fare', 'Count')"
   ],
   "outputs": [
    {
     "data": {
      "text/plain": [
       "<seaborn.axisgrid.FacetGrid at 0x1356bf8ef00>"
      ]
     },
     "execution_count": 14,
     "metadata": {},
     "output_type": "execute_result"
    },
    {
     "data": {
      "text/plain": [
       "<Figure size 500x500 with 1 Axes>"
      ],
      "image/png": "[encoded data removed]"
     },
     "metadata": {},
     "output_type": "display_data"
    }
   ],
   "execution_count": 14
  },
  {
   "cell_type": "code",
   "id": "7b8e1fb7e5d50776",
   "metadata": {
    "ExecuteTime": {
     "end_time": "2024-11-17T04:22:25.261018Z",
     "start_time": "2024-11-17T04:22:25.086383Z"
    }
   },
   "source": [
    "# 对数化处理 fare 值\n",
    "full['Fare'] = full['Fare'].map(lambda x: np.log(x) if x > 0 else x)\n",
    "\n",
    "# 处理之后票价 Fare 分布，偏度大幅降低\n",
    "farePlot = sns.displot(full['Fare'][full['Fare'].notnull()], kde=True)\n",
    "farePlot.fig.suptitle('Fare Distribution (skewness: %.2f)' % (full['Fare'].skew()))\n",
    "farePlot.set_axis_labels('Fare', 'Count')"
   ],
   "outputs": [
    {
     "data": {
      "text/plain": [
       "<seaborn.axisgrid.FacetGrid at 0x13567f479e0>"
      ]
     },
     "execution_count": 15,
     "metadata": {},
     "output_type": "execute_result"
    },
    {
     "data": {
      "text/plain": [
       "<Figure size 500x500 with 1 Axes>"
      ],
      "image/png": "[encoded data removed]"
     },
     "metadata": {},
     "output_type": "display_data"
    }
   ],
   "execution_count": 15
  },
  {
   "cell_type": "code",
   "id": "1850573023d16dc9",
   "metadata": {
    "ExecuteTime": {
     "end_time": "2024-11-17T04:22:25.278089Z",
     "start_time": "2024-11-17T04:22:25.272902Z"
    }
   },
   "source": [
    "# 数据清洗\n",
    "full.info()"
   ],
   "outputs": [
    {
     "name": "stdout",
     "output_type": "stream",
     "text": [
      "<class 'pandas.core.frame.DataFrame'>\n",
      "RangeIndex: 1309 entries, 0 to 1308\n",
      "Data columns (total 12 columns):\n",
      " #   Column       Non-Null Count  Dtype  \n",
      "---  ------       --------------  -----  \n",
      " 0   PassengerId  1309 non-null   int64  \n",
      " 1   Survived     891 non-null    float64\n",
      " 2   Pclass       1309 non-null   int64  \n",
      " 3   Name         1309 non-null   object \n",
      " 4   Sex          1309 non-null   object \n",
      " 5   Age          1046 non-null   float64\n",
      " 6   SibSp        1309 non-null   int64  \n",
      " 7   Parch        1309 non-null   int64  \n",
      " 8   Ticket       1309 non-null   object \n",
      " 9   Fare         1308 non-null   float64\n",
      " 10  Cabin        295 non-null    object \n",
      " 11  Embarked     1307 non-null   object \n",
      "dtypes: float64(3), int64(4), object(5)\n",
      "memory usage: 122.8+ KB\n"
     ]
    }
   ],
   "execution_count": 16
  },
  {
   "cell_type": "code",
   "id": "7f726a3da0389018",
   "metadata": {
    "ExecuteTime": {
     "end_time": "2024-11-17T04:22:25.294171Z",
     "start_time": "2024-11-17T04:22:25.290462Z"
    }
   },
   "source": [
    "# 填充缺失值为 U (Unknown)\n",
    "full['Cabin'] = full['Cabin'].fillna('U')\n",
    "\n",
    "# full['Cabin'].head()"
   ],
   "outputs": [],
   "execution_count": 17
  },
  {
   "cell_type": "code",
   "id": "c6937b08d8cf28ff",
   "metadata": {
    "ExecuteTime": {
     "end_time": "2024-11-17T04:22:25.316771Z",
     "start_time": "2024-11-17T04:22:25.305913Z"
    }
   },
   "source": [
    "# 对 Embarked 缺失值进行填充，查看缺失值情况\n",
    "display(full[full['Embarked'].isnull()])\n",
    "\n",
    "display(full['Embarked'].value_counts().to_frame())\n",
    "\n",
    "# 看起来填充一个 'S' 更合适\n",
    "full['Embarked'] = full['Embarked'].fillna('S')"
   ],
   "outputs": [
    {
     "data": {
      "text/plain": [
       "     PassengerId  Survived  Pclass                                       Name  \\\n",
       "61            62       1.0       1                        Icard, Miss. Amelie   \n",
       "829          830       1.0       1  Stone, Mrs. George Nelson (Martha Evelyn)   \n",
       "\n",
       "        Sex   Age  SibSp  Parch  Ticket      Fare Cabin Embarked  \n",
       "61   female  38.0      0      0  113572  4.382027   B28      NaN  \n",
       "829  female  62.0      0      0  113572  4.382027   B28      NaN  "
      ],
      "text/html": [
       "<div>\n",
       "<style scoped>\n",
       "    .dataframe tbody tr th:only-of-type {\n",
       "        vertical-align: middle;\n",
       "    }\n",
       "\n",
       "    .dataframe tbody tr th {\n",
       "        vertical-align: top;\n",
       "    }\n",
       "\n",
       "    .dataframe thead th {\n",
       "        text-align: right;\n",
       "    }\n",
       "</style>\n",
       "<table border=\"1\" class=\"dataframe\">\n",
       "  <thead>\n",
       "    <tr style=\"text-align: right;\">\n",
       "      <th></th>\n",
       "      <th>PassengerId</th>\n",
       "      <th>Survived</th>\n",
       "      <th>Pclass</th>\n",
       "      <th>Name</th>\n",
       "      <th>Sex</th>\n",
       "      <th>Age</th>\n",
       "      <th>SibSp</th>\n",
       "      <th>Parch</th>\n",
       "      <th>Ticket</th>\n",
       "      <th>Fare</th>\n",
       "      <th>Cabin</th>\n",
       "      <th>Embarked</th>\n",
       "    </tr>\n",
       "  </thead>\n",
       "  <tbody>\n",
       "    <tr>\n",
       "      <th>61</th>\n",
       "      <td>62</td>\n",
       "      <td>1.0</td>\n",
       "      <td>1</td>\n",
       "      <td>Icard, Miss. Amelie</td>\n",
       "      <td>female</td>\n",
       "      <td>38.0</td>\n",
       "      <td>0</td>\n",
       "      <td>0</td>\n",
       "      <td>113572</td>\n",
       "      <td>4.382027</td>\n",
       "      <td>B28</td>\n",
       "      <td>NaN</td>\n",
       "    </tr>\n",
       "    <tr>\n",
       "      <th>829</th>\n",
       "      <td>830</td>\n",
       "      <td>1.0</td>\n",
       "      <td>1</td>\n",
       "      <td>Stone, Mrs. George Nelson (Martha Evelyn)</td>\n",
       "      <td>female</td>\n",
       "      <td>62.0</td>\n",
       "      <td>0</td>\n",
       "      <td>0</td>\n",
       "      <td>113572</td>\n",
       "      <td>4.382027</td>\n",
       "      <td>B28</td>\n",
       "      <td>NaN</td>\n",
       "    </tr>\n",
       "  </tbody>\n",
       "</table>\n",
       "</div>"
      ]
     },
     "metadata": {},
     "output_type": "display_data"
    },
    {
     "data": {
      "text/plain": [
       "          count\n",
       "Embarked       \n",
       "S           914\n",
       "C           270\n",
       "Q           123"
      ],
      "text/html": [
       "<div>\n",
       "<style scoped>\n",
       "    .dataframe tbody tr th:only-of-type {\n",
       "        vertical-align: middle;\n",
       "    }\n",
       "\n",
       "    .dataframe tbody tr th {\n",
       "        vertical-align: top;\n",
       "    }\n",
       "\n",
       "    .dataframe thead th {\n",
       "        text-align: right;\n",
       "    }\n",
       "</style>\n",
       "<table border=\"1\" class=\"dataframe\">\n",
       "  <thead>\n",
       "    <tr style=\"text-align: right;\">\n",
       "      <th></th>\n",
       "      <th>count</th>\n",
       "    </tr>\n",
       "    <tr>\n",
       "      <th>Embarked</th>\n",
       "      <th></th>\n",
       "    </tr>\n",
       "  </thead>\n",
       "  <tbody>\n",
       "    <tr>\n",
       "      <th>S</th>\n",
       "      <td>914</td>\n",
       "    </tr>\n",
       "    <tr>\n",
       "      <th>C</th>\n",
       "      <td>270</td>\n",
       "    </tr>\n",
       "    <tr>\n",
       "      <th>Q</th>\n",
       "      <td>123</td>\n",
       "    </tr>\n",
       "  </tbody>\n",
       "</table>\n",
       "</div>"
      ]
     },
     "metadata": {},
     "output_type": "display_data"
    }
   ],
   "execution_count": 18
  },
  {
   "cell_type": "code",
   "id": "38144576ca542152",
   "metadata": {
    "ExecuteTime": {
     "end_time": "2024-11-17T04:22:25.358833Z",
     "start_time": "2024-11-17T04:22:25.343469Z"
    }
   },
   "source": [
    "# 对 Fare 缺失值进行填充，查看缺失值情况\n",
    "display(full[full['Fare'].isnull()])\n",
    "\n",
    "Passengers_who_fare_is_null = full[(full['Pclass']==3)&(full['Embarked']=='S')&(full['Cabin']=='U')]\n",
    "display(Passengers_who_fare_is_null.head())\n",
    "\n",
    "price = Passengers_who_fare_is_null['Fare'].mean()\n",
    "print(price)\n",
    "full['Fare'] = full['Fare'].fillna(price)"
   ],
   "outputs": [
    {
     "data": {
      "text/plain": [
       "      PassengerId  Survived  Pclass                Name   Sex   Age  SibSp  \\\n",
       "1043         1044       NaN       3  Storey, Mr. Thomas  male  60.5      0   \n",
       "\n",
       "      Parch Ticket  Fare Cabin Embarked  \n",
       "1043      0   3701   NaN     U        S  "
      ],
      "text/html": [
       "<div>\n",
       "<style scoped>\n",
       "    .dataframe tbody tr th:only-of-type {\n",
       "        vertical-align: middle;\n",
       "    }\n",
       "\n",
       "    .dataframe tbody tr th {\n",
       "        vertical-align: top;\n",
       "    }\n",
       "\n",
       "    .dataframe thead th {\n",
       "        text-align: right;\n",
       "    }\n",
       "</style>\n",
       "<table border=\"1\" class=\"dataframe\">\n",
       "  <thead>\n",
       "    <tr style=\"text-align: right;\">\n",
       "      <th></th>\n",
       "      <th>PassengerId</th>\n",
       "      <th>Survived</th>\n",
       "      <th>Pclass</th>\n",
       "      <th>Name</th>\n",
       "      <th>Sex</th>\n",
       "      <th>Age</th>\n",
       "      <th>SibSp</th>\n",
       "      <th>Parch</th>\n",
       "      <th>Ticket</th>\n",
       "      <th>Fare</th>\n",
       "      <th>Cabin</th>\n",
       "      <th>Embarked</th>\n",
       "    </tr>\n",
       "  </thead>\n",
       "  <tbody>\n",
       "    <tr>\n",
       "      <th>1043</th>\n",
       "      <td>1044</td>\n",
       "      <td>NaN</td>\n",
       "      <td>3</td>\n",
       "      <td>Storey, Mr. Thomas</td>\n",
       "      <td>male</td>\n",
       "      <td>60.5</td>\n",
       "      <td>0</td>\n",
       "      <td>0</td>\n",
       "      <td>3701</td>\n",
       "      <td>NaN</td>\n",
       "      <td>U</td>\n",
       "      <td>S</td>\n",
       "    </tr>\n",
       "  </tbody>\n",
       "</table>\n",
       "</div>"
      ]
     },
     "metadata": {},
     "output_type": "display_data"
    },
    {
     "data": {
      "text/plain": [
       "   PassengerId  Survived  Pclass  \\\n",
       "0            1       0.0       3   \n",
       "2            3       1.0       3   \n",
       "4            5       0.0       3   \n",
       "7            8       0.0       3   \n",
       "8            9       1.0       3   \n",
       "\n",
       "                                                Name     Sex   Age  SibSp  \\\n",
       "0                            Braund, Mr. Owen Harris    male  22.0      1   \n",
       "2                             Heikkinen, Miss. Laina  female  26.0      0   \n",
       "4                           Allen, Mr. William Henry    male  35.0      0   \n",
       "7                     Palsson, Master. Gosta Leonard    male   2.0      3   \n",
       "8  Johnson, Mrs. Oscar W (Elisabeth Vilhelmina Berg)  female  27.0      0   \n",
       "\n",
       "   Parch            Ticket      Fare Cabin Embarked  \n",
       "0      0         A/5 21171  1.981001     U        S  \n",
       "2      0  STON/O2. 3101282  2.070022     U        S  \n",
       "4      0            373450  2.085672     U        S  \n",
       "7      1            349909  3.048088     U        S  \n",
       "8      2            347742  2.409941     U        S  "
      ],
      "text/html": [
       "<div>\n",
       "<style scoped>\n",
       "    .dataframe tbody tr th:only-of-type {\n",
       "        vertical-align: middle;\n",
       "    }\n",
       "\n",
       "    .dataframe tbody tr th {\n",
       "        vertical-align: top;\n",
       "    }\n",
       "\n",
       "    .dataframe thead th {\n",
       "        text-align: right;\n",
       "    }\n",
       "</style>\n",
       "<table border=\"1\" class=\"dataframe\">\n",
       "  <thead>\n",
       "    <tr style=\"text-align: right;\">\n",
       "      <th></th>\n",
       "      <th>PassengerId</th>\n",
       "      <th>Survived</th>\n",
       "      <th>Pclass</th>\n",
       "      <th>Name</th>\n",
       "      <th>Sex</th>\n",
       "      <th>Age</th>\n",
       "      <th>SibSp</th>\n",
       "      <th>Parch</th>\n",
       "      <th>Ticket</th>\n",
       "      <th>Fare</th>\n",
       "      <th>Cabin</th>\n",
       "      <th>Embarked</th>\n",
       "    </tr>\n",
       "  </thead>\n",
       "  <tbody>\n",
       "    <tr>\n",
       "      <th>0</th>\n",
       "      <td>1</td>\n",
       "      <td>0.0</td>\n",
       "      <td>3</td>\n",
       "      <td>Braund, Mr. Owen Harris</td>\n",
       "      <td>male</td>\n",
       "      <td>22.0</td>\n",
       "      <td>1</td>\n",
       "      <td>0</td>\n",
       "      <td>A/5 21171</td>\n",
       "      <td>1.981001</td>\n",
       "      <td>U</td>\n",
       "      <td>S</td>\n",
       "    </tr>\n",
       "    <tr>\n",
       "      <th>2</th>\n",
       "      <td>3</td>\n",
       "      <td>1.0</td>\n",
       "      <td>3</td>\n",
       "      <td>Heikkinen, Miss. Laina</td>\n",
       "      <td>female</td>\n",
       "      <td>26.0</td>\n",
       "      <td>0</td>\n",
       "      <td>0</td>\n",
       "      <td>STON/O2. 3101282</td>\n",
       "      <td>2.070022</td>\n",
       "      <td>U</td>\n",
       "      <td>S</td>\n",
       "    </tr>\n",
       "    <tr>\n",
       "      <th>4</th>\n",
       "      <td>5</td>\n",
       "      <td>0.0</td>\n",
       "      <td>3</td>\n",
       "      <td>Allen, Mr. William Henry</td>\n",
       "      <td>male</td>\n",
       "      <td>35.0</td>\n",
       "      <td>0</td>\n",
       "      <td>0</td>\n",
       "      <td>373450</td>\n",
       "      <td>2.085672</td>\n",
       "      <td>U</td>\n",
       "      <td>S</td>\n",
       "    </tr>\n",
       "    <tr>\n",
       "      <th>7</th>\n",
       "      <td>8</td>\n",
       "      <td>0.0</td>\n",
       "      <td>3</td>\n",
       "      <td>Palsson, Master. Gosta Leonard</td>\n",
       "      <td>male</td>\n",
       "      <td>2.0</td>\n",
       "      <td>3</td>\n",
       "      <td>1</td>\n",
       "      <td>349909</td>\n",
       "      <td>3.048088</td>\n",
       "      <td>U</td>\n",
       "      <td>S</td>\n",
       "    </tr>\n",
       "    <tr>\n",
       "      <th>8</th>\n",
       "      <td>9</td>\n",
       "      <td>1.0</td>\n",
       "      <td>3</td>\n",
       "      <td>Johnson, Mrs. Oscar W (Elisabeth Vilhelmina Berg)</td>\n",
       "      <td>female</td>\n",
       "      <td>27.0</td>\n",
       "      <td>0</td>\n",
       "      <td>2</td>\n",
       "      <td>347742</td>\n",
       "      <td>2.409941</td>\n",
       "      <td>U</td>\n",
       "      <td>S</td>\n",
       "    </tr>\n",
       "  </tbody>\n",
       "</table>\n",
       "</div>"
      ]
     },
     "metadata": {},
     "output_type": "display_data"
    },
    {
     "name": "stdout",
     "output_type": "stream",
     "text": [
      "2.4268473255457303\n"
     ]
    }
   ],
   "execution_count": 19
  },
  {
   "cell_type": "code",
   "id": "9616b65efe53aec6",
   "metadata": {
    "ExecuteTime": {
     "end_time": "2024-11-17T04:22:25.401502Z",
     "start_time": "2024-11-17T04:22:25.394839Z"
    }
   },
   "source": [
    "full.info()"
   ],
   "outputs": [
    {
     "name": "stdout",
     "output_type": "stream",
     "text": [
      "<class 'pandas.core.frame.DataFrame'>\n",
      "RangeIndex: 1309 entries, 0 to 1308\n",
      "Data columns (total 12 columns):\n",
      " #   Column       Non-Null Count  Dtype  \n",
      "---  ------       --------------  -----  \n",
      " 0   PassengerId  1309 non-null   int64  \n",
      " 1   Survived     891 non-null    float64\n",
      " 2   Pclass       1309 non-null   int64  \n",
      " 3   Name         1309 non-null   object \n",
      " 4   Sex          1309 non-null   object \n",
      " 5   Age          1046 non-null   float64\n",
      " 6   SibSp        1309 non-null   int64  \n",
      " 7   Parch        1309 non-null   int64  \n",
      " 8   Ticket       1309 non-null   object \n",
      " 9   Fare         1309 non-null   float64\n",
      " 10  Cabin        1309 non-null   object \n",
      " 11  Embarked     1309 non-null   object \n",
      "dtypes: float64(3), int64(4), object(5)\n",
      "memory usage: 122.8+ KB\n"
     ]
    }
   ],
   "execution_count": 20
  },
  {
   "cell_type": "code",
   "id": "9534d42fb7c1abfe",
   "metadata": {
    "ExecuteTime": {
     "end_time": "2024-11-17T04:22:25.472725Z",
     "start_time": "2024-11-17T04:22:25.468378Z"
    }
   },
   "source": [
    "# 构造新特征 Title\n",
    "full['Title'] = full['Name'].map(lambda x: x.split(',')[1].split('.')[0].strip())\n",
    "# full['Title'].value_counts()"
   ],
   "outputs": [],
   "execution_count": 21
  },
  {
   "cell_type": "code",
   "id": "ee3225d218e92ae9",
   "metadata": {
    "ExecuteTime": {
     "end_time": "2024-11-17T04:22:25.505840Z",
     "start_time": "2024-11-17T04:22:25.500908Z"
    }
   },
   "source": [
    "# 将 Title 信息进行整合\n",
    "TitleDict = {}\n",
    "TitleDict['Mr'] = 'Mr'\n",
    "TitleDict['Mlle'] = 'Miss'\n",
    "TitleDict['Miss'] = 'Miss'\n",
    "TitleDict['Master'] = 'Master'\n",
    "TitleDict['Jonkheer'] = 'Master'\n",
    "TitleDict['Mme'] = 'Mrs'\n",
    "TitleDict['Ms'] = 'Mrs'\n",
    "TitleDict['Mrs'] = 'Mrs'\n",
    "TitleDict['Don'] = 'Royalty'\n",
    "TitleDict['Sir'] = 'Royalty'\n",
    "TitleDict['the Countess'] = 'Royalty'\n",
    "TitleDict['Dona'] = 'Royalty'\n",
    "TitleDict['Lady'] = 'Royalty'\n",
    "TitleDict['Capt'] = 'Officer'\n",
    "TitleDict['Col'] = 'Officer'\n",
    "TitleDict['Major'] = 'Officer'\n",
    "TitleDict['Dr'] = 'Officer'\n",
    "TitleDict['Rev'] = 'Officer'\n",
    "\n",
    "full['Title'] = full['Title'].map(TitleDict)\n",
    "# full['Title'].value_counts()"
   ],
   "outputs": [],
   "execution_count": 22
  },
  {
   "cell_type": "code",
   "id": "3ec3311e7d558ee3",
   "metadata": {
    "ExecuteTime": {
     "end_time": "2024-11-17T04:22:25.675832Z",
     "start_time": "2024-11-17T04:22:25.536405Z"
    }
   },
   "source": [
    "# 可视化分析 Title 与 Survived 的关系\n",
    "sns.barplot(data=full, x='Title', y='Survived')"
   ],
   "outputs": [
    {
     "data": {
      "text/plain": [
       "<Axes: xlabel='Title', ylabel='Survived'>"
      ]
     },
     "execution_count": 23,
     "metadata": {},
     "output_type": "execute_result"
    },
    {
     "data": {
      "text/plain": [
       "<Figure size 640x480 with 1 Axes>"
      ],
      "image/png": "[encoded data removed]"
     },
     "metadata": {},
     "output_type": "display_data"
    }
   ],
   "execution_count": 23
  },
  {
   "cell_type": "code",
   "id": "b7ef6afea2e708bc",
   "metadata": {
    "ExecuteTime": {
     "end_time": "2024-11-17T04:22:25.873207Z",
     "start_time": "2024-11-17T04:22:25.680837Z"
    }
   },
   "source": [
    "# 家庭成员数量\n",
    "full['FamilyNum'] = full['SibSp'] + full['Parch'] + 1\n",
    "# 查看 FamilyNum 与 Survived 的关系\n",
    "sns.barplot(data=full, x='FamilyNum', y='Survived')"
   ],
   "outputs": [
    {
     "data": {
      "text/plain": [
       "<Axes: xlabel='FamilyNum', ylabel='Survived'>"
      ]
     },
     "execution_count": 24,
     "metadata": {},
     "output_type": "execute_result"
    },
    {
     "data": {
      "text/plain": [
       "<Figure size 640x480 with 1 Axes>"
      ],
      "image/png": "[encoded data removed]"
     },
     "metadata": {},
     "output_type": "display_data"
    }
   ],
   "execution_count": 24
  },
  {
   "cell_type": "code",
   "id": "56618a4c8c917fa7",
   "metadata": {
    "ExecuteTime": {
     "end_time": "2024-11-17T04:22:25.999217Z",
     "start_time": "2024-11-17T04:22:25.898224Z"
    }
   },
   "source": [
    "# 我们按照家庭成员人数多少，将家庭规模分为小(0)，中(1)，大(2)三类，方便后续分析\n",
    "def family_size(family_num):\n",
    "    if family_num == 1:\n",
    "        return 0\n",
    "    elif 2 <= family_num <= 4:\n",
    "        return 1\n",
    "    else:\n",
    "        return 2\n",
    "\n",
    "full['FamilySize'] = full['FamilyNum'].map(family_size)\n",
    "# full['FamilySize'].value_counts()\n",
    "# 查看 FamilySize 与 Survived 的关系\n",
    "sns.barplot(data=full, x='FamilySize', y='Survived')"
   ],
   "outputs": [
    {
     "data": {
      "text/plain": [
       "<Axes: xlabel='FamilySize', ylabel='Survived'>"
      ]
     },
     "execution_count": 25,
     "metadata": {},
     "output_type": "execute_result"
    },
    {
     "data": {
      "text/plain": [
       "<Figure size 640x480 with 1 Axes>"
      ],
      "image/png": "[encoded data removed]"
     },
     "metadata": {},
     "output_type": "display_data"
    }
   ],
   "execution_count": 25
  },
  {
   "cell_type": "code",
   "id": "aea0c9ba06871d12",
   "metadata": {
    "ExecuteTime": {
     "end_time": "2024-11-17T04:22:26.110618Z",
     "start_time": "2024-11-17T04:22:26.003223Z"
    }
   },
   "source": [
    "# 船舱的类型\n",
    "# 提取 Cabin 字段首字母\n",
    "full['Desk'] = full['Cabin'].map(lambda x: x[0])\n",
    "# full['Cabin'].unique()\n",
    "sns.barplot(x=full['Desk'].value_counts().index, y=full['Desk'].value_counts().values).set(title='Desk Value Counts', xlabel='Desk', ylabel='Count')"
   ],
   "outputs": [
    {
     "data": {
      "text/plain": [
       "[Text(0.5, 1.0, 'Desk Value Counts'),\n",
       " Text(0.5, 0, 'Desk'),\n",
       " Text(0, 0.5, 'Count')]"
      ]
     },
     "execution_count": 26,
     "metadata": {},
     "output_type": "execute_result"
    },
    {
     "data": {
      "text/plain": [
       "<Figure size 640x480 with 1 Axes>"
      ],
      "image/png": "[encoded data removed]"
     },
     "metadata": {},
     "output_type": "display_data"
    }
   ],
   "execution_count": 26
  },
  {
   "cell_type": "code",
   "id": "ef9ceb78cb818d68",
   "metadata": {
    "ExecuteTime": {
     "end_time": "2024-11-17T04:22:26.290324Z",
     "start_time": "2024-11-17T04:22:26.124633Z"
    }
   },
   "source": [
    "# 查看 Desk 与 Survived 的关系\n",
    "sns.barplot(data=full, x='Desk', y='Survived')"
   ],
   "outputs": [
    {
     "data": {
      "text/plain": [
       "<Axes: xlabel='Desk', ylabel='Survived'>"
      ]
     },
     "execution_count": 27,
     "metadata": {},
     "output_type": "execute_result"
    },
    {
     "data": {
      "text/plain": [
       "<Figure size 640x480 with 1 Axes>"
      ],
      "image/png": "[encoded data removed]"
     },
     "metadata": {},
     "output_type": "display_data"
    }
   ],
   "execution_count": 27
  },
  {
   "cell_type": "code",
   "id": "4abbe5525b7ff5b8",
   "metadata": {
    "ExecuteTime": {
     "end_time": "2024-11-17T04:22:26.307116Z",
     "start_time": "2024-11-17T04:22:26.303681Z"
    }
   },
   "source": [
    "# 共号票乘客数量 TickCom 及 TickGroup\n",
    "TickCountDict = full['Ticket'].value_counts()\n",
    "# TickCountDict.head(5)"
   ],
   "outputs": [],
   "execution_count": 28
  },
  {
   "cell_type": "code",
   "id": "b222d75ea6826813",
   "metadata": {
    "ExecuteTime": {
     "end_time": "2024-11-17T04:22:26.329131Z",
     "start_time": "2024-11-17T04:22:26.321097Z"
    }
   },
   "source": [
    "# 将同号票乘客数量数据并入数据集中，命名为 TickCom\n",
    "full['TickCom'] = full['Ticket'].map(TickCountDict)\n",
    "full.head()\n",
    "# full[full['Ticket'] == '349909']"
   ],
   "outputs": [
    {
     "data": {
      "text/plain": [
       "   PassengerId  Survived  Pclass  \\\n",
       "0            1       0.0       3   \n",
       "1            2       1.0       1   \n",
       "2            3       1.0       3   \n",
       "3            4       1.0       1   \n",
       "4            5       0.0       3   \n",
       "\n",
       "                                                Name     Sex   Age  SibSp  \\\n",
       "0                            Braund, Mr. Owen Harris    male  22.0      1   \n",
       "1  Cumings, Mrs. John Bradley (Florence Briggs Th...  female  38.0      1   \n",
       "2                             Heikkinen, Miss. Laina  female  26.0      0   \n",
       "3       Futrelle, Mrs. Jacques Heath (Lily May Peel)  female  35.0      1   \n",
       "4                           Allen, Mr. William Henry    male  35.0      0   \n",
       "\n",
       "   Parch            Ticket      Fare Cabin Embarked Title  FamilyNum  \\\n",
       "0      0         A/5 21171  1.981001     U        S    Mr          2   \n",
       "1      0          PC 17599  4.266662   C85        C   Mrs          2   \n",
       "2      0  STON/O2. 3101282  2.070022     U        S  Miss          1   \n",
       "3      0            113803  3.972177  C123        S   Mrs          2   \n",
       "4      0            373450  2.085672     U        S    Mr          1   \n",
       "\n",
       "   FamilySize Desk  TickCom  \n",
       "0           1    U        1  \n",
       "1           1    C        2  \n",
       "2           0    U        1  \n",
       "3           1    C        2  \n",
       "4           0    U        1  "
      ],
      "text/html": [
       "<div>\n",
       "<style scoped>\n",
       "    .dataframe tbody tr th:only-of-type {\n",
       "        vertical-align: middle;\n",
       "    }\n",
       "\n",
       "    .dataframe tbody tr th {\n",
       "        vertical-align: top;\n",
       "    }\n",
       "\n",
       "    .dataframe thead th {\n",
       "        text-align: right;\n",
       "    }\n",
       "</style>\n",
       "<table border=\"1\" class=\"dataframe\">\n",
       "  <thead>\n",
       "    <tr style=\"text-align: right;\">\n",
       "      <th></th>\n",
       "      <th>PassengerId</th>\n",
       "      <th>Survived</th>\n",
       "      <th>Pclass</th>\n",
       "      <th>Name</th>\n",
       "      <th>Sex</th>\n",
       "      <th>Age</th>\n",
       "      <th>SibSp</th>\n",
       "      <th>Parch</th>\n",
       "      <th>Ticket</th>\n",
       "      <th>Fare</th>\n",
       "      <th>Cabin</th>\n",
       "      <th>Embarked</th>\n",
       "      <th>Title</th>\n",
       "      <th>FamilyNum</th>\n",
       "      <th>FamilySize</th>\n",
       "      <th>Desk</th>\n",
       "      <th>TickCom</th>\n",
       "    </tr>\n",
       "  </thead>\n",
       "  <tbody>\n",
       "    <tr>\n",
       "      <th>0</th>\n",
       "      <td>1</td>\n",
       "      <td>0.0</td>\n",
       "      <td>3</td>\n",
       "      <td>Braund, Mr. Owen Harris</td>\n",
       "      <td>male</td>\n",
       "      <td>22.0</td>\n",
       "      <td>1</td>\n",
       "      <td>0</td>\n",
       "      <td>A/5 21171</td>\n",
       "      <td>1.981001</td>\n",
       "      <td>U</td>\n",
       "      <td>S</td>\n",
       "      <td>Mr</td>\n",
       "      <td>2</td>\n",
       "      <td>1</td>\n",
       "      <td>U</td>\n",
       "      <td>1</td>\n",
       "    </tr>\n",
       "    <tr>\n",
       "      <th>1</th>\n",
       "      <td>2</td>\n",
       "      <td>1.0</td>\n",
       "      <td>1</td>\n",
       "      <td>Cumings, Mrs. John Bradley (Florence Briggs Th...</td>\n",
       "      <td>female</td>\n",
       "      <td>38.0</td>\n",
       "      <td>1</td>\n",
       "      <td>0</td>\n",
       "      <td>PC 17599</td>\n",
       "      <td>4.266662</td>\n",
       "      <td>C85</td>\n",
       "      <td>C</td>\n",
       "      <td>Mrs</td>\n",
       "      <td>2</td>\n",
       "      <td>1</td>\n",
       "      <td>C</td>\n",
       "      <td>2</td>\n",
       "    </tr>\n",
       "    <tr>\n",
       "      <th>2</th>\n",
       "      <td>3</td>\n",
       "      <td>1.0</td>\n",
       "      <td>3</td>\n",
       "      <td>Heikkinen, Miss. Laina</td>\n",
       "      <td>female</td>\n",
       "      <td>26.0</td>\n",
       "      <td>0</td>\n",
       "      <td>0</td>\n",
       "      <td>STON/O2. 3101282</td>\n",
       "      <td>2.070022</td>\n",
       "      <td>U</td>\n",
       "      <td>S</td>\n",
       "      <td>Miss</td>\n",
       "      <td>1</td>\n",
       "      <td>0</td>\n",
       "      <td>U</td>\n",
       "      <td>1</td>\n",
       "    </tr>\n",
       "    <tr>\n",
       "      <th>3</th>\n",
       "      <td>4</td>\n",
       "      <td>1.0</td>\n",
       "      <td>1</td>\n",
       "      <td>Futrelle, Mrs. Jacques Heath (Lily May Peel)</td>\n",
       "      <td>female</td>\n",
       "      <td>35.0</td>\n",
       "      <td>1</td>\n",
       "      <td>0</td>\n",
       "      <td>113803</td>\n",
       "      <td>3.972177</td>\n",
       "      <td>C123</td>\n",
       "      <td>S</td>\n",
       "      <td>Mrs</td>\n",
       "      <td>2</td>\n",
       "      <td>1</td>\n",
       "      <td>C</td>\n",
       "      <td>2</td>\n",
       "    </tr>\n",
       "    <tr>\n",
       "      <th>4</th>\n",
       "      <td>5</td>\n",
       "      <td>0.0</td>\n",
       "      <td>3</td>\n",
       "      <td>Allen, Mr. William Henry</td>\n",
       "      <td>male</td>\n",
       "      <td>35.0</td>\n",
       "      <td>0</td>\n",
       "      <td>0</td>\n",
       "      <td>373450</td>\n",
       "      <td>2.085672</td>\n",
       "      <td>U</td>\n",
       "      <td>S</td>\n",
       "      <td>Mr</td>\n",
       "      <td>1</td>\n",
       "      <td>0</td>\n",
       "      <td>U</td>\n",
       "      <td>1</td>\n",
       "    </tr>\n",
       "  </tbody>\n",
       "</table>\n",
       "</div>"
      ]
     },
     "execution_count": 29,
     "metadata": {},
     "output_type": "execute_result"
    }
   ],
   "execution_count": 29
  },
  {
   "cell_type": "code",
   "id": "36cffb8842197017",
   "metadata": {
    "ExecuteTime": {
     "end_time": "2024-11-17T04:22:26.478261Z",
     "start_time": "2024-11-17T04:22:26.363240Z"
    }
   },
   "source": [
    "# 查看 TickCom 的分布情况\n",
    "sns.barplot(x=full['TickCom'].value_counts().index, y=full['TickCom'].value_counts().values).set(title='TickCom Value Counts', xlabel='TickCom', ylabel='Count')"
   ],
   "outputs": [
    {
     "data": {
      "text/plain": [
       "[Text(0.5, 1.0, 'TickCom Value Counts'),\n",
       " Text(0.5, 0, 'TickCom'),\n",
       " Text(0, 0.5, 'Count')]"
      ]
     },
     "execution_count": 30,
     "metadata": {},
     "output_type": "execute_result"
    },
    {
     "data": {
      "text/plain": [
       "<Figure size 640x480 with 1 Axes>"
      ],
      "image/png": "[encoded data removed]"
     },
     "metadata": {},
     "output_type": "display_data"
    }
   ],
   "execution_count": 30
  },
  {
   "cell_type": "code",
   "id": "dbb3a2c4ab5e055e",
   "metadata": {
    "ExecuteTime": {
     "end_time": "2024-11-17T04:22:26.689678Z",
     "start_time": "2024-11-17T04:22:26.503794Z"
    }
   },
   "source": [
    "# 查看 TickCom 与 Survived 的关系\n",
    "sns.barplot(data=full, x='TickCom', y='Survived')"
   ],
   "outputs": [
    {
     "data": {
      "text/plain": [
       "<Axes: xlabel='TickCom', ylabel='Survived'>"
      ]
     },
     "execution_count": 31,
     "metadata": {},
     "output_type": "execute_result"
    },
    {
     "data": {
      "text/plain": [
       "<Figure size 640x480 with 1 Axes>"
      ],
      "image/png": "[encoded data removed]"
     },
     "metadata": {},
     "output_type": "display_data"
    }
   ],
   "execution_count": 31
  },
  {
   "cell_type": "code",
   "id": "c9d6a2a51867614c",
   "metadata": {
    "ExecuteTime": {
     "end_time": "2024-11-17T04:22:26.905834Z",
     "start_time": "2024-11-17T04:22:26.703686Z"
    }
   },
   "source": [
    "# 按照 TickCom 大小，将乘客分为三类\n",
    "def TickCountGroup(num):\n",
    "    if 2 <= num <= 4:\n",
    "        return 0\n",
    "    elif num ==1  or 5 <= num <= 8:\n",
    "        return 1\n",
    "    else:\n",
    "        return 2\n",
    "\n",
    "# 得到各位乘客 TickGroup 的类别\n",
    "full['TickGroup'] = full['TickCom'].map(TickCountGroup)\n",
    "# 查看 TickGroup 与 Survived 的关系\n",
    "sns.barplot(data=full, x='TickGroup', y='Survived')"
   ],
   "outputs": [
    {
     "data": {
      "text/plain": [
       "<Axes: xlabel='TickGroup', ylabel='Survived'>"
      ]
     },
     "execution_count": 32,
     "metadata": {},
     "output_type": "execute_result"
    },
    {
     "data": {
      "text/plain": [
       "<Figure size 640x480 with 1 Axes>"
      ],
      "image/png": "[encoded data removed]"
     },
     "metadata": {},
     "output_type": "display_data"
    }
   ],
   "execution_count": 32
  },
  {
   "cell_type": "code",
   "id": "8d8d8ffd0113dbd3",
   "metadata": {
    "ExecuteTime": {
     "end_time": "2024-11-17T04:22:26.932556Z",
     "start_time": "2024-11-17T04:22:26.923410Z"
    }
   },
   "source": [
    "# 首先查看数据，然后计划填充 Age 缺失值\n",
    "full.info()"
   ],
   "outputs": [
    {
     "name": "stdout",
     "output_type": "stream",
     "text": [
      "<class 'pandas.core.frame.DataFrame'>\n",
      "RangeIndex: 1309 entries, 0 to 1308\n",
      "Data columns (total 18 columns):\n",
      " #   Column       Non-Null Count  Dtype  \n",
      "---  ------       --------------  -----  \n",
      " 0   PassengerId  1309 non-null   int64  \n",
      " 1   Survived     891 non-null    float64\n",
      " 2   Pclass       1309 non-null   int64  \n",
      " 3   Name         1309 non-null   object \n",
      " 4   Sex          1309 non-null   object \n",
      " 5   Age          1046 non-null   float64\n",
      " 6   SibSp        1309 non-null   int64  \n",
      " 7   Parch        1309 non-null   int64  \n",
      " 8   Ticket       1309 non-null   object \n",
      " 9   Fare         1309 non-null   float64\n",
      " 10  Cabin        1309 non-null   object \n",
      " 11  Embarked     1309 non-null   object \n",
      " 12  Title        1309 non-null   object \n",
      " 13  FamilyNum    1309 non-null   int64  \n",
      " 14  FamilySize   1309 non-null   int64  \n",
      " 15  Desk         1309 non-null   object \n",
      " 16  TickCom      1309 non-null   int64  \n",
      " 17  TickGroup    1309 non-null   int64  \n",
      "dtypes: float64(3), int64(8), object(7)\n",
      "memory usage: 184.2+ KB\n"
     ]
    }
   ],
   "execution_count": 33
  },
  {
   "cell_type": "code",
   "id": "e6004bb249b01ac0",
   "metadata": {
    "ExecuteTime": {
     "end_time": "2024-11-17T04:22:26.969301Z",
     "start_time": "2024-11-17T04:22:26.951971Z"
    }
   },
   "source": [
    "# 查看相关性系数 corr\n",
    "full[full['Age'].notnull()].select_dtypes(include=[float, int]).corr()"
   ],
   "outputs": [
    {
     "data": {
      "text/plain": [
       "             PassengerId  Survived    Pclass       Age     SibSp     Parch  \\\n",
       "PassengerId     1.000000  0.029340 -0.064097  0.028814 -0.050700 -0.021096   \n",
       "Survived        0.029340  1.000000 -0.359653 -0.077221 -0.017358  0.093317   \n",
       "Pclass         -0.064097 -0.359653  1.000000 -0.408106  0.047221  0.017224   \n",
       "Age             0.028814 -0.077221 -0.408106  1.000000 -0.243699 -0.150917   \n",
       "SibSp          -0.050700 -0.017358  0.047221 -0.243699  1.000000  0.374456   \n",
       "Parch          -0.021096  0.093317  0.017224 -0.150917  0.374456  1.000000   \n",
       "Fare            0.038722  0.342920 -0.741394  0.194038  0.294004  0.318137   \n",
       "FamilyNum      -0.044024  0.042787  0.039602 -0.240229  0.844260  0.813080   \n",
       "FamilySize     -0.048093  0.106359 -0.074864 -0.174901  0.779310  0.705738   \n",
       "TickCom        -0.013838  0.093239 -0.114293 -0.185284  0.621362  0.641500   \n",
       "TickGroup      -0.005325 -0.322862  0.311226 -0.005224 -0.131130 -0.162860   \n",
       "\n",
       "                 Fare  FamilyNum  FamilySize   TickCom  TickGroup  \n",
       "PassengerId  0.038722  -0.044024   -0.048093 -0.013838  -0.005325  \n",
       "Survived     0.342920   0.042787    0.106359  0.093239  -0.322862  \n",
       "Pclass      -0.741394   0.039602   -0.074864 -0.114293   0.311226  \n",
       "Age          0.194038  -0.240229   -0.174901 -0.185284  -0.005224  \n",
       "SibSp        0.294004   0.844260    0.779310  0.621362  -0.131130  \n",
       "Parch        0.318137   0.813080    0.705738  0.641500  -0.162860  \n",
       "Fare         1.000000   0.368463    0.451368  0.603769  -0.439788  \n",
       "FamilyNum    0.368463   1.000000    0.897180  0.760887  -0.176458  \n",
       "FamilySize   0.451368   0.897180    1.000000  0.661291  -0.401090  \n",
       "TickCom      0.603769   0.760887    0.661291  1.000000  -0.203938  \n",
       "TickGroup   -0.439788  -0.176458   -0.401090 -0.203938   1.000000  "
      ],
      "text/html": [
       "<div>\n",
       "<style scoped>\n",
       "    .dataframe tbody tr th:only-of-type {\n",
       "        vertical-align: middle;\n",
       "    }\n",
       "\n",
       "    .dataframe tbody tr th {\n",
       "        vertical-align: top;\n",
       "    }\n",
       "\n",
       "    .dataframe thead th {\n",
       "        text-align: right;\n",
       "    }\n",
       "</style>\n",
       "<table border=\"1\" class=\"dataframe\">\n",
       "  <thead>\n",
       "    <tr style=\"text-align: right;\">\n",
       "      <th></th>\n",
       "      <th>PassengerId</th>\n",
       "      <th>Survived</th>\n",
       "      <th>Pclass</th>\n",
       "      <th>Age</th>\n",
       "      <th>SibSp</th>\n",
       "      <th>Parch</th>\n",
       "      <th>Fare</th>\n",
       "      <th>FamilyNum</th>\n",
       "      <th>FamilySize</th>\n",
       "      <th>TickCom</th>\n",
       "      <th>TickGroup</th>\n",
       "    </tr>\n",
       "  </thead>\n",
       "  <tbody>\n",
       "    <tr>\n",
       "      <th>PassengerId</th>\n",
       "      <td>1.000000</td>\n",
       "      <td>0.029340</td>\n",
       "      <td>-0.064097</td>\n",
       "      <td>0.028814</td>\n",
       "      <td>-0.050700</td>\n",
       "      <td>-0.021096</td>\n",
       "      <td>0.038722</td>\n",
       "      <td>-0.044024</td>\n",
       "      <td>-0.048093</td>\n",
       "      <td>-0.013838</td>\n",
       "      <td>-0.005325</td>\n",
       "    </tr>\n",
       "    <tr>\n",
       "      <th>Survived</th>\n",
       "      <td>0.029340</td>\n",
       "      <td>1.000000</td>\n",
       "      <td>-0.359653</td>\n",
       "      <td>-0.077221</td>\n",
       "      <td>-0.017358</td>\n",
       "      <td>0.093317</td>\n",
       "      <td>0.342920</td>\n",
       "      <td>0.042787</td>\n",
       "      <td>0.106359</td>\n",
       "      <td>0.093239</td>\n",
       "      <td>-0.322862</td>\n",
       "    </tr>\n",
       "    <tr>\n",
       "      <th>Pclass</th>\n",
       "      <td>-0.064097</td>\n",
       "      <td>-0.359653</td>\n",
       "      <td>1.000000</td>\n",
       "      <td>-0.408106</td>\n",
       "      <td>0.047221</td>\n",
       "      <td>0.017224</td>\n",
       "      <td>-0.741394</td>\n",
       "      <td>0.039602</td>\n",
       "      <td>-0.074864</td>\n",
       "      <td>-0.114293</td>\n",
       "      <td>0.311226</td>\n",
       "    </tr>\n",
       "    <tr>\n",
       "      <th>Age</th>\n",
       "      <td>0.028814</td>\n",
       "      <td>-0.077221</td>\n",
       "      <td>-0.408106</td>\n",
       "      <td>1.000000</td>\n",
       "      <td>-0.243699</td>\n",
       "      <td>-0.150917</td>\n",
       "      <td>0.194038</td>\n",
       "      <td>-0.240229</td>\n",
       "      <td>-0.174901</td>\n",
       "      <td>-0.185284</td>\n",
       "      <td>-0.005224</td>\n",
       "    </tr>\n",
       "    <tr>\n",
       "      <th>SibSp</th>\n",
       "      <td>-0.050700</td>\n",
       "      <td>-0.017358</td>\n",
       "      <td>0.047221</td>\n",
       "      <td>-0.243699</td>\n",
       "      <td>1.000000</td>\n",
       "      <td>0.374456</td>\n",
       "      <td>0.294004</td>\n",
       "      <td>0.844260</td>\n",
       "      <td>0.779310</td>\n",
       "      <td>0.621362</td>\n",
       "      <td>-0.131130</td>\n",
       "    </tr>\n",
       "    <tr>\n",
       "      <th>Parch</th>\n",
       "      <td>-0.021096</td>\n",
       "      <td>0.093317</td>\n",
       "      <td>0.017224</td>\n",
       "      <td>-0.150917</td>\n",
       "      <td>0.374456</td>\n",
       "      <td>1.000000</td>\n",
       "      <td>0.318137</td>\n",
       "      <td>0.813080</td>\n",
       "      <td>0.705738</td>\n",
       "      <td>0.641500</td>\n",
       "      <td>-0.162860</td>\n",
       "    </tr>\n",
       "    <tr>\n",
       "      <th>Fare</th>\n",
       "      <td>0.038722</td>\n",
       "      <td>0.342920</td>\n",
       "      <td>-0.741394</td>\n",
       "      <td>0.194038</td>\n",
       "      <td>0.294004</td>\n",
       "      <td>0.318137</td>\n",
       "      <td>1.000000</td>\n",
       "      <td>0.368463</td>\n",
       "      <td>0.451368</td>\n",
       "      <td>0.603769</td>\n",
       "      <td>-0.439788</td>\n",
       "    </tr>\n",
       "    <tr>\n",
       "      <th>FamilyNum</th>\n",
       "      <td>-0.044024</td>\n",
       "      <td>0.042787</td>\n",
       "      <td>0.039602</td>\n",
       "      <td>-0.240229</td>\n",
       "      <td>0.844260</td>\n",
       "      <td>0.813080</td>\n",
       "      <td>0.368463</td>\n",
       "      <td>1.000000</td>\n",
       "      <td>0.897180</td>\n",
       "      <td>0.760887</td>\n",
       "      <td>-0.176458</td>\n",
       "    </tr>\n",
       "    <tr>\n",
       "      <th>FamilySize</th>\n",
       "      <td>-0.048093</td>\n",
       "      <td>0.106359</td>\n",
       "      <td>-0.074864</td>\n",
       "      <td>-0.174901</td>\n",
       "      <td>0.779310</td>\n",
       "      <td>0.705738</td>\n",
       "      <td>0.451368</td>\n",
       "      <td>0.897180</td>\n",
       "      <td>1.000000</td>\n",
       "      <td>0.661291</td>\n",
       "      <td>-0.401090</td>\n",
       "    </tr>\n",
       "    <tr>\n",
       "      <th>TickCom</th>\n",
       "      <td>-0.013838</td>\n",
       "      <td>0.093239</td>\n",
       "      <td>-0.114293</td>\n",
       "      <td>-0.185284</td>\n",
       "      <td>0.621362</td>\n",
       "      <td>0.641500</td>\n",
       "      <td>0.603769</td>\n",
       "      <td>0.760887</td>\n",
       "      <td>0.661291</td>\n",
       "      <td>1.000000</td>\n",
       "      <td>-0.203938</td>\n",
       "    </tr>\n",
       "    <tr>\n",
       "      <th>TickGroup</th>\n",
       "      <td>-0.005325</td>\n",
       "      <td>-0.322862</td>\n",
       "      <td>0.311226</td>\n",
       "      <td>-0.005224</td>\n",
       "      <td>-0.131130</td>\n",
       "      <td>-0.162860</td>\n",
       "      <td>-0.439788</td>\n",
       "      <td>-0.176458</td>\n",
       "      <td>-0.401090</td>\n",
       "      <td>-0.203938</td>\n",
       "      <td>1.000000</td>\n",
       "    </tr>\n",
       "  </tbody>\n",
       "</table>\n",
       "</div>"
      ]
     },
     "execution_count": 34,
     "metadata": {},
     "output_type": "execute_result"
    }
   ],
   "execution_count": 34
  },
  {
   "cell_type": "code",
   "id": "5c30f2fad8158412",
   "metadata": {
    "ExecuteTime": {
     "end_time": "2024-11-17T04:22:27.014821Z",
     "start_time": "2024-11-17T04:22:27.010062Z"
    }
   },
   "source": [
    "# 筛选数据集\n",
    "agePre = full[['Age', 'Parch', 'Pclass', 'SibSp', 'FamilyNum', 'TickCom', 'Title']]"
   ],
   "outputs": [],
   "execution_count": 35
  },
  {
   "cell_type": "code",
   "id": "7697569f98c451dd",
   "metadata": {
    "ExecuteTime": {
     "end_time": "2024-11-17T04:22:27.052887Z",
     "start_time": "2024-11-17T04:22:27.047486Z"
    }
   },
   "source": [
    "# 进行 one-hot 编码\n",
    "agePre = pd.get_dummies(agePre)\n",
    "ageCorrDf = agePre.corr()\n",
    "# ageCorrDf['Age'].sort_values()"
   ],
   "outputs": [],
   "execution_count": 36
  },
  {
   "cell_type": "code",
   "id": "c58870f96e4b46f2",
   "metadata": {
    "ExecuteTime": {
     "end_time": "2024-11-17T04:22:27.067994Z",
     "start_time": "2024-11-17T04:22:27.060891Z"
    }
   },
   "source": [
    "agePre.head(5)"
   ],
   "outputs": [
    {
     "data": {
      "text/plain": [
       "    Age  Parch  Pclass  SibSp  FamilyNum  TickCom  Title_Master  Title_Miss  \\\n",
       "0  22.0      0       3      1          2        1         False       False   \n",
       "1  38.0      0       1      1          2        2         False       False   \n",
       "2  26.0      0       3      0          1        1         False        True   \n",
       "3  35.0      0       1      1          2        2         False       False   \n",
       "4  35.0      0       3      0          1        1         False       False   \n",
       "\n",
       "   Title_Mr  Title_Mrs  Title_Officer  Title_Royalty  \n",
       "0      True      False          False          False  \n",
       "1     False       True          False          False  \n",
       "2     False      False          False          False  \n",
       "3     False       True          False          False  \n",
       "4      True      False          False          False  "
      ],
      "text/html": [
       "<div>\n",
       "<style scoped>\n",
       "    .dataframe tbody tr th:only-of-type {\n",
       "        vertical-align: middle;\n",
       "    }\n",
       "\n",
       "    .dataframe tbody tr th {\n",
       "        vertical-align: top;\n",
       "    }\n",
       "\n",
       "    .dataframe thead th {\n",
       "        text-align: right;\n",
       "    }\n",
       "</style>\n",
       "<table border=\"1\" class=\"dataframe\">\n",
       "  <thead>\n",
       "    <tr style=\"text-align: right;\">\n",
       "      <th></th>\n",
       "      <th>Age</th>\n",
       "      <th>Parch</th>\n",
       "      <th>Pclass</th>\n",
       "      <th>SibSp</th>\n",
       "      <th>FamilyNum</th>\n",
       "      <th>TickCom</th>\n",
       "      <th>Title_Master</th>\n",
       "      <th>Title_Miss</th>\n",
       "      <th>Title_Mr</th>\n",
       "      <th>Title_Mrs</th>\n",
       "      <th>Title_Officer</th>\n",
       "      <th>Title_Royalty</th>\n",
       "    </tr>\n",
       "  </thead>\n",
       "  <tbody>\n",
       "    <tr>\n",
       "      <th>0</th>\n",
       "      <td>22.0</td>\n",
       "      <td>0</td>\n",
       "      <td>3</td>\n",
       "      <td>1</td>\n",
       "      <td>2</td>\n",
       "      <td>1</td>\n",
       "      <td>False</td>\n",
       "      <td>False</td>\n",
       "      <td>True</td>\n",
       "      <td>False</td>\n",
       "      <td>False</td>\n",
       "      <td>False</td>\n",
       "    </tr>\n",
       "    <tr>\n",
       "      <th>1</th>\n",
       "      <td>38.0</td>\n",
       "      <td>0</td>\n",
       "      <td>1</td>\n",
       "      <td>1</td>\n",
       "      <td>2</td>\n",
       "      <td>2</td>\n",
       "      <td>False</td>\n",
       "      <td>False</td>\n",
       "      <td>False</td>\n",
       "      <td>True</td>\n",
       "      <td>False</td>\n",
       "      <td>False</td>\n",
       "    </tr>\n",
       "    <tr>\n",
       "      <th>2</th>\n",
       "      <td>26.0</td>\n",
       "      <td>0</td>\n",
       "      <td>3</td>\n",
       "      <td>0</td>\n",
       "      <td>1</td>\n",
       "      <td>1</td>\n",
       "      <td>False</td>\n",
       "      <td>True</td>\n",
       "      <td>False</td>\n",
       "      <td>False</td>\n",
       "      <td>False</td>\n",
       "      <td>False</td>\n",
       "    </tr>\n",
       "    <tr>\n",
       "      <th>3</th>\n",
       "      <td>35.0</td>\n",
       "      <td>0</td>\n",
       "      <td>1</td>\n",
       "      <td>1</td>\n",
       "      <td>2</td>\n",
       "      <td>2</td>\n",
       "      <td>False</td>\n",
       "      <td>False</td>\n",
       "      <td>False</td>\n",
       "      <td>True</td>\n",
       "      <td>False</td>\n",
       "      <td>False</td>\n",
       "    </tr>\n",
       "    <tr>\n",
       "      <th>4</th>\n",
       "      <td>35.0</td>\n",
       "      <td>0</td>\n",
       "      <td>3</td>\n",
       "      <td>0</td>\n",
       "      <td>1</td>\n",
       "      <td>1</td>\n",
       "      <td>False</td>\n",
       "      <td>False</td>\n",
       "      <td>True</td>\n",
       "      <td>False</td>\n",
       "      <td>False</td>\n",
       "      <td>False</td>\n",
       "    </tr>\n",
       "  </tbody>\n",
       "</table>\n",
       "</div>"
      ]
     },
     "execution_count": 37,
     "metadata": {},
     "output_type": "execute_result"
    }
   ],
   "execution_count": 37
  },
  {
   "cell_type": "code",
   "id": "ac4dc74728634949",
   "metadata": {
    "ExecuteTime": {
     "end_time": "2024-11-17T04:22:27.113461Z",
     "start_time": "2024-11-17T04:22:27.109090Z"
    }
   },
   "source": [
    "# 拆分实验集和预测集\n",
    "ageKnown = agePre[agePre['Age'].notnull()]\n",
    "ageUnknown = agePre[agePre['Age'].isnull()]\n",
    "\n",
    "# 生成实验数据的特征和标签\n",
    "ageKnown_X = ageKnown.drop(['Age'], axis=1)\n",
    "ageKnown_y = ageKnown['Age']\n",
    "\n",
    "# 生成预测数据的特征\n",
    "ageUnknown_X = ageUnknown.drop(['Age'], axis=1)"
   ],
   "outputs": [],
   "execution_count": 38
  },
  {
   "cell_type": "code",
   "id": "c06c5869a56a3a5f",
   "metadata": {
    "ExecuteTime": {
     "end_time": "2024-11-17T04:22:28.310184Z",
     "start_time": "2024-11-17T04:22:27.154830Z"
    }
   },
   "source": [
    "# 利用随机森林构建模型\n",
    "from sklearn.ensemble import RandomForestRegressor\n",
    "rfr = RandomForestRegressor(random_state=None, n_estimators=500, n_jobs=-1)\n",
    "rfr.fit(ageKnown_X, ageKnown_y)\n",
    "\n",
    "# 模型得分（准确度）\n",
    "rfr.score(ageKnown_X, ageKnown_y)"
   ],
   "outputs": [
    {
     "data": {
      "text/plain": [
       "0.5866063683819069"
      ]
     },
     "execution_count": 39,
     "metadata": {},
     "output_type": "execute_result"
    }
   ],
   "execution_count": 39
  },
  {
   "cell_type": "code",
   "id": "d986179205762335",
   "metadata": {
    "ExecuteTime": {
     "end_time": "2024-11-17T04:22:28.359487Z",
     "start_time": "2024-11-17T04:22:28.313189Z"
    }
   },
   "source": [
    "# 预测年龄\n",
    "ageUnknown_predict = rfr.predict(ageUnknown_X)\n",
    "\n",
    "# 填充预测数据\n",
    "full.loc[(full['Age'].isnull()), 'Age'] = ageUnknown_predict\n",
    "full.info()"
   ],
   "outputs": [
    {
     "name": "stdout",
     "output_type": "stream",
     "text": [
      "<class 'pandas.core.frame.DataFrame'>\n",
      "RangeIndex: 1309 entries, 0 to 1308\n",
      "Data columns (total 18 columns):\n",
      " #   Column       Non-Null Count  Dtype  \n",
      "---  ------       --------------  -----  \n",
      " 0   PassengerId  1309 non-null   int64  \n",
      " 1   Survived     891 non-null    float64\n",
      " 2   Pclass       1309 non-null   int64  \n",
      " 3   Name         1309 non-null   object \n",
      " 4   Sex          1309 non-null   object \n",
      " 5   Age          1309 non-null   float64\n",
      " 6   SibSp        1309 non-null   int64  \n",
      " 7   Parch        1309 non-null   int64  \n",
      " 8   Ticket       1309 non-null   object \n",
      " 9   Fare         1309 non-null   float64\n",
      " 10  Cabin        1309 non-null   object \n",
      " 11  Embarked     1309 non-null   object \n",
      " 12  Title        1309 non-null   object \n",
      " 13  FamilyNum    1309 non-null   int64  \n",
      " 14  FamilySize   1309 non-null   int64  \n",
      " 15  Desk         1309 non-null   object \n",
      " 16  TickCom      1309 non-null   int64  \n",
      " 17  TickGroup    1309 non-null   int64  \n",
      "dtypes: float64(3), int64(8), object(7)\n",
      "memory usage: 184.2+ KB\n"
     ]
    }
   ],
   "execution_count": 40
  },
  {
   "metadata": {
    "ExecuteTime": {
     "end_time": "2024-11-17T04:22:28.388137Z",
     "start_time": "2024-11-17T04:22:28.384669Z"
    }
   },
   "cell_type": "code",
   "source": [
    "# 同组识别\n",
    "full['Surname'] = full['Name'].map(lambda x: x.split(',')[0].strip())\n",
    "SurNameDict = full['Surname'].value_counts()\n",
    "# SurNameDict.head(5)"
   ],
   "id": "c73ce055eedc6f22",
   "outputs": [],
   "execution_count": 41
  },
  {
   "metadata": {
    "ExecuteTime": {
     "end_time": "2024-11-17T04:22:28.420118Z",
     "start_time": "2024-11-17T04:22:28.410328Z"
    }
   },
   "cell_type": "code",
   "source": [
    "full['SurnameNum'] = full['Surname'].map(SurNameDict)\n",
    "\n",
    "# 12 岁以上男性，找出男性中同姓氏均获救的部分\n",
    "MaleDf = full[(full['Age']>=12) & (full['Sex']=='male') & (full['FamilyNum']>=2)]\n",
    "MaleDf.head(5)"
   ],
   "id": "1f641d85aa69422e",
   "outputs": [
    {
     "data": {
      "text/plain": [
       "    PassengerId  Survived  Pclass                            Name   Sex   Age  \\\n",
       "0             1       0.0       3         Braund, Mr. Owen Harris  male  22.0   \n",
       "13           14       0.0       3     Andersson, Mr. Anders Johan  male  39.0   \n",
       "27           28       0.0       1  Fortune, Mr. Charles Alexander  male  19.0   \n",
       "34           35       0.0       1         Meyer, Mr. Edgar Joseph  male  28.0   \n",
       "35           36       0.0       1  Holverson, Mr. Alexander Oskar  male  42.0   \n",
       "\n",
       "    SibSp  Parch     Ticket      Fare        Cabin Embarked Title  FamilyNum  \\\n",
       "0       1      0  A/5 21171  1.981001            U        S    Mr          2   \n",
       "13      1      5     347082  3.442819            U        S    Mr          7   \n",
       "27      3      2      19950  5.572154  C23 C25 C27        S    Mr          6   \n",
       "34      1      0   PC 17604  4.408800            U        C    Mr          2   \n",
       "35      1      0     113789  3.951244            U        S    Mr          2   \n",
       "\n",
       "    FamilySize Desk  TickCom  TickGroup    Surname  SurnameNum  \n",
       "0            1    U        1          1     Braund           2  \n",
       "13           2    U        7          1  Andersson          11  \n",
       "27           2    C        6          1    Fortune           6  \n",
       "34           1    U        2          0      Meyer           3  \n",
       "35           1    U        2          0  Holverson           2  "
      ],
      "text/html": [
       "<div>\n",
       "<style scoped>\n",
       "    .dataframe tbody tr th:only-of-type {\n",
       "        vertical-align: middle;\n",
       "    }\n",
       "\n",
       "    .dataframe tbody tr th {\n",
       "        vertical-align: top;\n",
       "    }\n",
       "\n",
       "    .dataframe thead th {\n",
       "        text-align: right;\n",
       "    }\n",
       "</style>\n",
       "<table border=\"1\" class=\"dataframe\">\n",
       "  <thead>\n",
       "    <tr style=\"text-align: right;\">\n",
       "      <th></th>\n",
       "      <th>PassengerId</th>\n",
       "      <th>Survived</th>\n",
       "      <th>Pclass</th>\n",
       "      <th>Name</th>\n",
       "      <th>Sex</th>\n",
       "      <th>Age</th>\n",
       "      <th>SibSp</th>\n",
       "      <th>Parch</th>\n",
       "      <th>Ticket</th>\n",
       "      <th>Fare</th>\n",
       "      <th>Cabin</th>\n",
       "      <th>Embarked</th>\n",
       "      <th>Title</th>\n",
       "      <th>FamilyNum</th>\n",
       "      <th>FamilySize</th>\n",
       "      <th>Desk</th>\n",
       "      <th>TickCom</th>\n",
       "      <th>TickGroup</th>\n",
       "      <th>Surname</th>\n",
       "      <th>SurnameNum</th>\n",
       "    </tr>\n",
       "  </thead>\n",
       "  <tbody>\n",
       "    <tr>\n",
       "      <th>0</th>\n",
       "      <td>1</td>\n",
       "      <td>0.0</td>\n",
       "      <td>3</td>\n",
       "      <td>Braund, Mr. Owen Harris</td>\n",
       "      <td>male</td>\n",
       "      <td>22.0</td>\n",
       "      <td>1</td>\n",
       "      <td>0</td>\n",
       "      <td>A/5 21171</td>\n",
       "      <td>1.981001</td>\n",
       "      <td>U</td>\n",
       "      <td>S</td>\n",
       "      <td>Mr</td>\n",
       "      <td>2</td>\n",
       "      <td>1</td>\n",
       "      <td>U</td>\n",
       "      <td>1</td>\n",
       "      <td>1</td>\n",
       "      <td>Braund</td>\n",
       "      <td>2</td>\n",
       "    </tr>\n",
       "    <tr>\n",
       "      <th>13</th>\n",
       "      <td>14</td>\n",
       "      <td>0.0</td>\n",
       "      <td>3</td>\n",
       "      <td>Andersson, Mr. Anders Johan</td>\n",
       "      <td>male</td>\n",
       "      <td>39.0</td>\n",
       "      <td>1</td>\n",
       "      <td>5</td>\n",
       "      <td>347082</td>\n",
       "      <td>3.442819</td>\n",
       "      <td>U</td>\n",
       "      <td>S</td>\n",
       "      <td>Mr</td>\n",
       "      <td>7</td>\n",
       "      <td>2</td>\n",
       "      <td>U</td>\n",
       "      <td>7</td>\n",
       "      <td>1</td>\n",
       "      <td>Andersson</td>\n",
       "      <td>11</td>\n",
       "    </tr>\n",
       "    <tr>\n",
       "      <th>27</th>\n",
       "      <td>28</td>\n",
       "      <td>0.0</td>\n",
       "      <td>1</td>\n",
       "      <td>Fortune, Mr. Charles Alexander</td>\n",
       "      <td>male</td>\n",
       "      <td>19.0</td>\n",
       "      <td>3</td>\n",
       "      <td>2</td>\n",
       "      <td>19950</td>\n",
       "      <td>5.572154</td>\n",
       "      <td>C23 C25 C27</td>\n",
       "      <td>S</td>\n",
       "      <td>Mr</td>\n",
       "      <td>6</td>\n",
       "      <td>2</td>\n",
       "      <td>C</td>\n",
       "      <td>6</td>\n",
       "      <td>1</td>\n",
       "      <td>Fortune</td>\n",
       "      <td>6</td>\n",
       "    </tr>\n",
       "    <tr>\n",
       "      <th>34</th>\n",
       "      <td>35</td>\n",
       "      <td>0.0</td>\n",
       "      <td>1</td>\n",
       "      <td>Meyer, Mr. Edgar Joseph</td>\n",
       "      <td>male</td>\n",
       "      <td>28.0</td>\n",
       "      <td>1</td>\n",
       "      <td>0</td>\n",
       "      <td>PC 17604</td>\n",
       "      <td>4.408800</td>\n",
       "      <td>U</td>\n",
       "      <td>C</td>\n",
       "      <td>Mr</td>\n",
       "      <td>2</td>\n",
       "      <td>1</td>\n",
       "      <td>U</td>\n",
       "      <td>2</td>\n",
       "      <td>0</td>\n",
       "      <td>Meyer</td>\n",
       "      <td>3</td>\n",
       "    </tr>\n",
       "    <tr>\n",
       "      <th>35</th>\n",
       "      <td>36</td>\n",
       "      <td>0.0</td>\n",
       "      <td>1</td>\n",
       "      <td>Holverson, Mr. Alexander Oskar</td>\n",
       "      <td>male</td>\n",
       "      <td>42.0</td>\n",
       "      <td>1</td>\n",
       "      <td>0</td>\n",
       "      <td>113789</td>\n",
       "      <td>3.951244</td>\n",
       "      <td>U</td>\n",
       "      <td>S</td>\n",
       "      <td>Mr</td>\n",
       "      <td>2</td>\n",
       "      <td>1</td>\n",
       "      <td>U</td>\n",
       "      <td>2</td>\n",
       "      <td>0</td>\n",
       "      <td>Holverson</td>\n",
       "      <td>2</td>\n",
       "    </tr>\n",
       "  </tbody>\n",
       "</table>\n",
       "</div>"
      ]
     },
     "execution_count": 42,
     "metadata": {},
     "output_type": "execute_result"
    }
   ],
   "execution_count": 42
  },
  {
   "metadata": {
    "ExecuteTime": {
     "end_time": "2024-11-17T04:22:28.472670Z",
     "start_time": "2024-11-17T04:22:28.467911Z"
    }
   },
   "cell_type": "code",
   "source": [
    "# 分析男性同组效应\n",
    "MSurNameDf = MaleDf.dropna(subset=['Survived']).groupby('Surname')['Survived'].mean()\n",
    "# MSurNameDf.value_counts()\n",
    "# 这里的 Survived == 1 的行数据存在问题，教程中这行的 count 是 19"
   ],
   "id": "9fa0263afe4a8ee8",
   "outputs": [],
   "execution_count": 43
  },
  {
   "metadata": {
    "ExecuteTime": {
     "end_time": "2024-11-17T04:22:28.564480Z",
     "start_time": "2024-11-17T04:22:28.551384Z"
    }
   },
   "cell_type": "code",
   "source": [
    "# 女性及儿童同组效应分析\n",
    "# 提取乘客的姓氏及相应的乘客数\n",
    "full['Surname'] = full['Name'].map(lambda x: x.split(',')[0].strip())\n",
    "SurNameDict = full['Surname'].value_counts()\n",
    "full['SurnameNum'] = full['Surname'].map(SurNameDict)\n",
    "\n",
    "# 将数据分为两组\n",
    "FemChildDf = full[((full['Sex']=='female')|(full['Age']<=12))&(full['FamilyNum']>=2)]\n",
    "\n",
    "FCSurNameDf = FemChildDf.dropna(subset=['Survived']).groupby('Surname')['Survived'].mean()\n",
    "# FCSurNameDf.value_counts()"
   ],
   "id": "5ee7bff4ad8dde21",
   "outputs": [],
   "execution_count": 44
  },
  {
   "metadata": {
    "ExecuteTime": {
     "end_time": "2024-11-17T04:22:28.639468Z",
     "start_time": "2024-11-17T04:22:28.632176Z"
    }
   },
   "cell_type": "code",
   "source": [
    "# 直接修改数据，这一操作等价于定制算法，添加权重，不过不可迁移\n",
    "# 获取 M 中生存率为 1 的姓氏\n",
    "MSurNameDict = MSurNameDf[MSurNameDf.values==1].index # MSurNameDf.values==1 是先将 DataFrame 转换为一个 NumPy 数组，然后元素是否等于 1，返回一个同大小的布尔数组\n",
    "# 获取 F 和 C 中生存率为 0 的姓氏\n",
    "FCSurNameDict = FCSurNameDf[FCSurNameDf.values==0].index\n",
    "MSurNameDict, FCSurNameDict"
   ],
   "id": "a4f734cdecd40ebf",
   "outputs": [
    {
     "data": {
      "text/plain": [
       "(Index(['Beane', 'Beckwith', 'Bishop', 'Cardeza', 'Chambers', 'Dick',\n",
       "        'Duff Gordon', 'Frauenthal', 'Frolicher-Stehli', 'Goldenberg',\n",
       "        'Greenfield', 'Harder', 'Hoyt', 'Kimball', 'Lindqvist', 'McCoy',\n",
       "        'Nakid', 'Nicola-Yarred', 'Persson', 'Taylor'],\n",
       "       dtype='object', name='Surname'),\n",
       " Index(['Ahlin', 'Arnold-Franchi', 'Barbara', 'Boulos', 'Bourke', 'Caram',\n",
       "        'Danbom', 'Ford', 'Goodwin', 'Ilmakangas', 'Johnston', 'Jussila',\n",
       "        'Lahtinen', 'Lefebre', 'Lobb', 'Palsson', 'Panula', 'Rice', 'Robins',\n",
       "        'Rosblom', 'Sage', 'Skoog', 'Strom', 'Turpin', 'Van Impe',\n",
       "        'Vander Planke', 'Zabour'],\n",
       "       dtype='object', name='Surname'))"
      ]
     },
     "execution_count": 45,
     "metadata": {},
     "output_type": "execute_result"
    }
   ],
   "execution_count": 45
  },
  {
   "metadata": {
    "ExecuteTime": {
     "end_time": "2024-11-17T04:22:28.692788Z",
     "start_time": "2024-11-17T04:22:28.683870Z"
    }
   },
   "cell_type": "code",
   "source": [
    "# 对数据集中这些姓氏的男性进行修正：性别改为女，年龄改为 5\n",
    "full.loc[(full['Survived'].isnull()) & (full['Surname'].isin(MSurNameDict)) & (full['Sex']=='male'), 'Sex'] = 'female'\n",
    "full.loc[(full['Survived'].isnull()) & (full['Surname'].isin(MSurNameDict)) & (full['Sex']=='male'), 'Age'] = 5\n",
    "# 对数据集中这些姓氏的女性及儿童进行修正：性别改为男，年龄改为 60\n",
    "full.loc[(full['Survived'].isnull()) & (full['Surname'].isin(FCSurNameDict)) & (full['Sex']=='female') & (full['Age']<=12), 'Sex'] = 'male'\n",
    "full.loc[(full['Survived'].isnull()) & (full['Surname'].isin(FCSurNameDict)) & (full['Sex']=='female') & (full['Age']<=12), 'Age'] = 60"
   ],
   "id": "f361e22bfc45196",
   "outputs": [],
   "execution_count": 46
  },
  {
   "metadata": {
    "ExecuteTime": {
     "end_time": "2024-11-17T04:22:28.752713Z",
     "start_time": "2024-11-17T04:22:28.738234Z"
    }
   },
   "cell_type": "code",
   "source": [
    "# 条件筛选，先人工筛选\n",
    "fullSel = full.drop(['Cabin', 'Name', 'Ticket', 'PassengerId', 'Surname', 'SurnameNum'], axis=1) # 姓氏已经在同组识别中使用过了，没有用处了\n",
    "fullSel.head(5)"
   ],
   "id": "90330e4fb7d9bec5",
   "outputs": [
    {
     "data": {
      "text/plain": [
       "   Survived  Pclass     Sex   Age  SibSp  Parch      Fare Embarked Title  \\\n",
       "0       0.0       3    male  22.0      1      0  1.981001        S    Mr   \n",
       "1       1.0       1  female  38.0      1      0  4.266662        C   Mrs   \n",
       "2       1.0       3  female  26.0      0      0  2.070022        S  Miss   \n",
       "3       1.0       1  female  35.0      1      0  3.972177        S   Mrs   \n",
       "4       0.0       3    male  35.0      0      0  2.085672        S    Mr   \n",
       "\n",
       "   FamilyNum  FamilySize Desk  TickCom  TickGroup  \n",
       "0          2           1    U        1          1  \n",
       "1          2           1    C        2          0  \n",
       "2          1           0    U        1          1  \n",
       "3          2           1    C        2          0  \n",
       "4          1           0    U        1          1  "
      ],
      "text/html": [
       "<div>\n",
       "<style scoped>\n",
       "    .dataframe tbody tr th:only-of-type {\n",
       "        vertical-align: middle;\n",
       "    }\n",
       "\n",
       "    .dataframe tbody tr th {\n",
       "        vertical-align: top;\n",
       "    }\n",
       "\n",
       "    .dataframe thead th {\n",
       "        text-align: right;\n",
       "    }\n",
       "</style>\n",
       "<table border=\"1\" class=\"dataframe\">\n",
       "  <thead>\n",
       "    <tr style=\"text-align: right;\">\n",
       "      <th></th>\n",
       "      <th>Survived</th>\n",
       "      <th>Pclass</th>\n",
       "      <th>Sex</th>\n",
       "      <th>Age</th>\n",
       "      <th>SibSp</th>\n",
       "      <th>Parch</th>\n",
       "      <th>Fare</th>\n",
       "      <th>Embarked</th>\n",
       "      <th>Title</th>\n",
       "      <th>FamilyNum</th>\n",
       "      <th>FamilySize</th>\n",
       "      <th>Desk</th>\n",
       "      <th>TickCom</th>\n",
       "      <th>TickGroup</th>\n",
       "    </tr>\n",
       "  </thead>\n",
       "  <tbody>\n",
       "    <tr>\n",
       "      <th>0</th>\n",
       "      <td>0.0</td>\n",
       "      <td>3</td>\n",
       "      <td>male</td>\n",
       "      <td>22.0</td>\n",
       "      <td>1</td>\n",
       "      <td>0</td>\n",
       "      <td>1.981001</td>\n",
       "      <td>S</td>\n",
       "      <td>Mr</td>\n",
       "      <td>2</td>\n",
       "      <td>1</td>\n",
       "      <td>U</td>\n",
       "      <td>1</td>\n",
       "      <td>1</td>\n",
       "    </tr>\n",
       "    <tr>\n",
       "      <th>1</th>\n",
       "      <td>1.0</td>\n",
       "      <td>1</td>\n",
       "      <td>female</td>\n",
       "      <td>38.0</td>\n",
       "      <td>1</td>\n",
       "      <td>0</td>\n",
       "      <td>4.266662</td>\n",
       "      <td>C</td>\n",
       "      <td>Mrs</td>\n",
       "      <td>2</td>\n",
       "      <td>1</td>\n",
       "      <td>C</td>\n",
       "      <td>2</td>\n",
       "      <td>0</td>\n",
       "    </tr>\n",
       "    <tr>\n",
       "      <th>2</th>\n",
       "      <td>1.0</td>\n",
       "      <td>3</td>\n",
       "      <td>female</td>\n",
       "      <td>26.0</td>\n",
       "      <td>0</td>\n",
       "      <td>0</td>\n",
       "      <td>2.070022</td>\n",
       "      <td>S</td>\n",
       "      <td>Miss</td>\n",
       "      <td>1</td>\n",
       "      <td>0</td>\n",
       "      <td>U</td>\n",
       "      <td>1</td>\n",
       "      <td>1</td>\n",
       "    </tr>\n",
       "    <tr>\n",
       "      <th>3</th>\n",
       "      <td>1.0</td>\n",
       "      <td>1</td>\n",
       "      <td>female</td>\n",
       "      <td>35.0</td>\n",
       "      <td>1</td>\n",
       "      <td>0</td>\n",
       "      <td>3.972177</td>\n",
       "      <td>S</td>\n",
       "      <td>Mrs</td>\n",
       "      <td>2</td>\n",
       "      <td>1</td>\n",
       "      <td>C</td>\n",
       "      <td>2</td>\n",
       "      <td>0</td>\n",
       "    </tr>\n",
       "    <tr>\n",
       "      <th>4</th>\n",
       "      <td>0.0</td>\n",
       "      <td>3</td>\n",
       "      <td>male</td>\n",
       "      <td>35.0</td>\n",
       "      <td>0</td>\n",
       "      <td>0</td>\n",
       "      <td>2.085672</td>\n",
       "      <td>S</td>\n",
       "      <td>Mr</td>\n",
       "      <td>1</td>\n",
       "      <td>0</td>\n",
       "      <td>U</td>\n",
       "      <td>1</td>\n",
       "      <td>1</td>\n",
       "    </tr>\n",
       "  </tbody>\n",
       "</table>\n",
       "</div>"
      ]
     },
     "execution_count": 47,
     "metadata": {},
     "output_type": "execute_result"
    }
   ],
   "execution_count": 47
  },
  {
   "metadata": {
    "ExecuteTime": {
     "end_time": "2024-11-17T04:22:28.827724Z",
     "start_time": "2024-11-17T04:22:28.819581Z"
    }
   },
   "cell_type": "code",
   "source": [
    "corrDf = fullSel.select_dtypes(include=['number']).corr()\n",
    "corrDf['Survived'].sort_values(ascending=True)"
   ],
   "id": "d78dbc12e3662e05",
   "outputs": [
    {
     "data": {
      "text/plain": [
       "Pclass       -0.338481\n",
       "TickGroup    -0.319278\n",
       "Age          -0.059723\n",
       "SibSp        -0.035322\n",
       "FamilyNum     0.016639\n",
       "TickCom       0.064962\n",
       "Parch         0.081629\n",
       "FamilySize    0.108631\n",
       "Fare          0.331805\n",
       "Survived      1.000000\n",
       "Name: Survived, dtype: float64"
      ]
     },
     "execution_count": 48,
     "metadata": {},
     "output_type": "execute_result"
    }
   ],
   "execution_count": 48
  },
  {
   "metadata": {
    "ExecuteTime": {
     "end_time": "2024-11-17T04:22:29.191064Z",
     "start_time": "2024-11-17T04:22:28.881395Z"
    }
   },
   "cell_type": "code",
   "source": [
    "# 热力图，查看 Survived 与其他特征间相关性大小\n",
    "plt.figure(figsize=(10, 8))\n",
    "sns.heatmap(corrDf, cmap='BrBG', annot=True)\n",
    "_ = plt.xticks(rotation=45)"
   ],
   "id": "1d8b95a7e4b082c8",
   "outputs": [
    {
     "data": {
      "text/plain": [
       "<Figure size 1000x800 with 2 Axes>"
      ],
      "image/png": "[encoded data removed]"
     },
     "metadata": {},
     "output_type": "display_data"
    }
   ],
   "execution_count": 49
  },
  {
   "metadata": {
    "ExecuteTime": {
     "end_time": "2024-11-17T04:22:29.226995Z",
     "start_time": "2024-11-17T04:22:29.214678Z"
    }
   },
   "cell_type": "code",
   "source": [
    "# 删除相关性系数低的属性\n",
    "fullSel = fullSel.drop(['Age', 'Parch', 'SibSp', 'FamilyNum', 'TickCom'], axis=1)\n",
    "\n",
    "# one-hot 编码\n",
    "fullSel = pd.get_dummies(fullSel)\n",
    "fullSel.head(5)"
   ],
   "id": "82e4bda4d141302a",
   "outputs": [
    {
     "data": {
      "text/plain": [
       "   Survived  Pclass      Fare  FamilySize  TickGroup  Sex_female  Sex_male  \\\n",
       "0       0.0       3  1.981001           1          1       False      True   \n",
       "1       1.0       1  4.266662           1          0        True     False   \n",
       "2       1.0       3  2.070022           0          1        True     False   \n",
       "3       1.0       1  3.972177           1          0        True     False   \n",
       "4       0.0       3  2.085672           0          1       False      True   \n",
       "\n",
       "   Embarked_C  Embarked_Q  Embarked_S  ...  Title_Royalty  Desk_A  Desk_B  \\\n",
       "0       False       False        True  ...          False   False   False   \n",
       "1        True       False       False  ...          False   False   False   \n",
       "2       False       False        True  ...          False   False   False   \n",
       "3       False       False        True  ...          False   False   False   \n",
       "4       False       False        True  ...          False   False   False   \n",
       "\n",
       "   Desk_C  Desk_D  Desk_E  Desk_F  Desk_G  Desk_T  Desk_U  \n",
       "0   False   False   False   False   False   False    True  \n",
       "1    True   False   False   False   False   False   False  \n",
       "2   False   False   False   False   False   False    True  \n",
       "3    True   False   False   False   False   False   False  \n",
       "4   False   False   False   False   False   False    True  \n",
       "\n",
       "[5 rows x 25 columns]"
      ],
      "text/html": [
       "<div>\n",
       "<style scoped>\n",
       "    .dataframe tbody tr th:only-of-type {\n",
       "        vertical-align: middle;\n",
       "    }\n",
       "\n",
       "    .dataframe tbody tr th {\n",
       "        vertical-align: top;\n",
       "    }\n",
       "\n",
       "    .dataframe thead th {\n",
       "        text-align: right;\n",
       "    }\n",
       "</style>\n",
       "<table border=\"1\" class=\"dataframe\">\n",
       "  <thead>\n",
       "    <tr style=\"text-align: right;\">\n",
       "      <th></th>\n",
       "      <th>Survived</th>\n",
       "      <th>Pclass</th>\n",
       "      <th>Fare</th>\n",
       "      <th>FamilySize</th>\n",
       "      <th>TickGroup</th>\n",
       "      <th>Sex_female</th>\n",
       "      <th>Sex_male</th>\n",
       "      <th>Embarked_C</th>\n",
       "      <th>Embarked_Q</th>\n",
       "      <th>Embarked_S</th>\n",
       "      <th>...</th>\n",
       "      <th>Title_Royalty</th>\n",
       "      <th>Desk_A</th>\n",
       "      <th>Desk_B</th>\n",
       "      <th>Desk_C</th>\n",
       "      <th>Desk_D</th>\n",
       "      <th>Desk_E</th>\n",
       "      <th>Desk_F</th>\n",
       "      <th>Desk_G</th>\n",
       "      <th>Desk_T</th>\n",
       "      <th>Desk_U</th>\n",
       "    </tr>\n",
       "  </thead>\n",
       "  <tbody>\n",
       "    <tr>\n",
       "      <th>0</th>\n",
       "      <td>0.0</td>\n",
       "      <td>3</td>\n",
       "      <td>1.981001</td>\n",
       "      <td>1</td>\n",
       "      <td>1</td>\n",
       "      <td>False</td>\n",
       "      <td>True</td>\n",
       "      <td>False</td>\n",
       "      <td>False</td>\n",
       "      <td>True</td>\n",
       "      <td>...</td>\n",
       "      <td>False</td>\n",
       "      <td>False</td>\n",
       "      <td>False</td>\n",
       "      <td>False</td>\n",
       "      <td>False</td>\n",
       "      <td>False</td>\n",
       "      <td>False</td>\n",
       "      <td>False</td>\n",
       "      <td>False</td>\n",
       "      <td>True</td>\n",
       "    </tr>\n",
       "    <tr>\n",
       "      <th>1</th>\n",
       "      <td>1.0</td>\n",
       "      <td>1</td>\n",
       "      <td>4.266662</td>\n",
       "      <td>1</td>\n",
       "      <td>0</td>\n",
       "      <td>True</td>\n",
       "      <td>False</td>\n",
       "      <td>True</td>\n",
       "      <td>False</td>\n",
       "      <td>False</td>\n",
       "      <td>...</td>\n",
       "      <td>False</td>\n",
       "      <td>False</td>\n",
       "      <td>False</td>\n",
       "      <td>True</td>\n",
       "      <td>False</td>\n",
       "      <td>False</td>\n",
       "      <td>False</td>\n",
       "      <td>False</td>\n",
       "      <td>False</td>\n",
       "      <td>False</td>\n",
       "    </tr>\n",
       "    <tr>\n",
       "      <th>2</th>\n",
       "      <td>1.0</td>\n",
       "      <td>3</td>\n",
       "      <td>2.070022</td>\n",
       "      <td>0</td>\n",
       "      <td>1</td>\n",
       "      <td>True</td>\n",
       "      <td>False</td>\n",
       "      <td>False</td>\n",
       "      <td>False</td>\n",
       "      <td>True</td>\n",
       "      <td>...</td>\n",
       "      <td>False</td>\n",
       "      <td>False</td>\n",
       "      <td>False</td>\n",
       "      <td>False</td>\n",
       "      <td>False</td>\n",
       "      <td>False</td>\n",
       "      <td>False</td>\n",
       "      <td>False</td>\n",
       "      <td>False</td>\n",
       "      <td>True</td>\n",
       "    </tr>\n",
       "    <tr>\n",
       "      <th>3</th>\n",
       "      <td>1.0</td>\n",
       "      <td>1</td>\n",
       "      <td>3.972177</td>\n",
       "      <td>1</td>\n",
       "      <td>0</td>\n",
       "      <td>True</td>\n",
       "      <td>False</td>\n",
       "      <td>False</td>\n",
       "      <td>False</td>\n",
       "      <td>True</td>\n",
       "      <td>...</td>\n",
       "      <td>False</td>\n",
       "      <td>False</td>\n",
       "      <td>False</td>\n",
       "      <td>True</td>\n",
       "      <td>False</td>\n",
       "      <td>False</td>\n",
       "      <td>False</td>\n",
       "      <td>False</td>\n",
       "      <td>False</td>\n",
       "      <td>False</td>\n",
       "    </tr>\n",
       "    <tr>\n",
       "      <th>4</th>\n",
       "      <td>0.0</td>\n",
       "      <td>3</td>\n",
       "      <td>2.085672</td>\n",
       "      <td>0</td>\n",
       "      <td>1</td>\n",
       "      <td>False</td>\n",
       "      <td>True</td>\n",
       "      <td>False</td>\n",
       "      <td>False</td>\n",
       "      <td>True</td>\n",
       "      <td>...</td>\n",
       "      <td>False</td>\n",
       "      <td>False</td>\n",
       "      <td>False</td>\n",
       "      <td>False</td>\n",
       "      <td>False</td>\n",
       "      <td>False</td>\n",
       "      <td>False</td>\n",
       "      <td>False</td>\n",
       "      <td>False</td>\n",
       "      <td>True</td>\n",
       "    </tr>\n",
       "  </tbody>\n",
       "</table>\n",
       "<p>5 rows × 25 columns</p>\n",
       "</div>"
      ]
     },
     "execution_count": 50,
     "metadata": {},
     "output_type": "execute_result"
    }
   ],
   "execution_count": 50
  }
 ],
 "metadata": {
  "kernelspec": {
   "display_name": "Python 3 (ipykernel)",
   "language": "python",
   "name": "python3"
  },
  "language_info": {
   "codemirror_mode": {
    "name": "ipython",
    "version": 3
   },
   "file_extension": ".py",
   "mimetype": "text/x-python",
   "name": "python",
   "nbconvert_exporter": "python",
   "pygments_lexer": "ipython3",
   "version": "3.12.7"
  }
 },
 "nbformat": 4,
 "nbformat_minor": 5
}
